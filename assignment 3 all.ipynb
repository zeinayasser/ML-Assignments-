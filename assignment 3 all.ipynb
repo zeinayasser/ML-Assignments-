{
 "cells": [
  {
   "cell_type": "code",
   "execution_count": 1,
   "metadata": {},
   "outputs": [],
   "source": [
    "#used for manipulating directory paths\n",
    "import os \n",
    "#scintific and vector computation for python \n",
    "import numpy as np\n",
    "#plotting library\n",
    "\n",
    "from matplotlib import pyplot\n",
    "\n",
    "import pandas as pd"
   ]
  },
  {
   "cell_type": "code",
   "execution_count": 2,
   "metadata": {},
   "outputs": [
    {
     "data": {
      "text/html": [
       "<div>\n",
       "<style scoped>\n",
       "    .dataframe tbody tr th:only-of-type {\n",
       "        vertical-align: middle;\n",
       "    }\n",
       "\n",
       "    .dataframe tbody tr th {\n",
       "        vertical-align: top;\n",
       "    }\n",
       "\n",
       "    .dataframe thead th {\n",
       "        text-align: right;\n",
       "    }\n",
       "</style>\n",
       "<table border=\"1\" class=\"dataframe\">\n",
       "  <thead>\n",
       "    <tr style=\"text-align: right;\">\n",
       "      <th></th>\n",
       "      <th>id</th>\n",
       "      <th>date</th>\n",
       "      <th>price</th>\n",
       "      <th>bedrooms</th>\n",
       "      <th>bathrooms</th>\n",
       "      <th>sqft_living</th>\n",
       "      <th>sqft_lot</th>\n",
       "      <th>floors</th>\n",
       "      <th>waterfront</th>\n",
       "      <th>view</th>\n",
       "      <th>...</th>\n",
       "      <th>grade</th>\n",
       "      <th>sqft_above</th>\n",
       "      <th>sqft_basement</th>\n",
       "      <th>yr_built</th>\n",
       "      <th>yr_renovated</th>\n",
       "      <th>zipcode</th>\n",
       "      <th>lat</th>\n",
       "      <th>long</th>\n",
       "      <th>sqft_living15</th>\n",
       "      <th>sqft_lot15</th>\n",
       "    </tr>\n",
       "  </thead>\n",
       "  <tbody>\n",
       "    <tr>\n",
       "      <td>0</td>\n",
       "      <td>7129300520</td>\n",
       "      <td>20141013T000000</td>\n",
       "      <td>221900.0</td>\n",
       "      <td>3</td>\n",
       "      <td>1.00</td>\n",
       "      <td>1180</td>\n",
       "      <td>5650</td>\n",
       "      <td>1.0</td>\n",
       "      <td>0</td>\n",
       "      <td>0</td>\n",
       "      <td>...</td>\n",
       "      <td>7</td>\n",
       "      <td>1180</td>\n",
       "      <td>0</td>\n",
       "      <td>1955</td>\n",
       "      <td>0</td>\n",
       "      <td>98178</td>\n",
       "      <td>47.5112</td>\n",
       "      <td>-122.257</td>\n",
       "      <td>1340</td>\n",
       "      <td>5650</td>\n",
       "    </tr>\n",
       "    <tr>\n",
       "      <td>1</td>\n",
       "      <td>6414100192</td>\n",
       "      <td>20141209T000000</td>\n",
       "      <td>538000.0</td>\n",
       "      <td>3</td>\n",
       "      <td>2.25</td>\n",
       "      <td>2570</td>\n",
       "      <td>7242</td>\n",
       "      <td>2.0</td>\n",
       "      <td>0</td>\n",
       "      <td>0</td>\n",
       "      <td>...</td>\n",
       "      <td>7</td>\n",
       "      <td>2170</td>\n",
       "      <td>400</td>\n",
       "      <td>1951</td>\n",
       "      <td>1991</td>\n",
       "      <td>98125</td>\n",
       "      <td>47.7210</td>\n",
       "      <td>-122.319</td>\n",
       "      <td>1690</td>\n",
       "      <td>7639</td>\n",
       "    </tr>\n",
       "    <tr>\n",
       "      <td>2</td>\n",
       "      <td>5631500400</td>\n",
       "      <td>20150225T000000</td>\n",
       "      <td>180000.0</td>\n",
       "      <td>2</td>\n",
       "      <td>1.00</td>\n",
       "      <td>770</td>\n",
       "      <td>10000</td>\n",
       "      <td>1.0</td>\n",
       "      <td>0</td>\n",
       "      <td>0</td>\n",
       "      <td>...</td>\n",
       "      <td>6</td>\n",
       "      <td>770</td>\n",
       "      <td>0</td>\n",
       "      <td>1933</td>\n",
       "      <td>0</td>\n",
       "      <td>98028</td>\n",
       "      <td>47.7379</td>\n",
       "      <td>-122.233</td>\n",
       "      <td>2720</td>\n",
       "      <td>8062</td>\n",
       "    </tr>\n",
       "    <tr>\n",
       "      <td>3</td>\n",
       "      <td>2487200875</td>\n",
       "      <td>20141209T000000</td>\n",
       "      <td>604000.0</td>\n",
       "      <td>4</td>\n",
       "      <td>3.00</td>\n",
       "      <td>1960</td>\n",
       "      <td>5000</td>\n",
       "      <td>1.0</td>\n",
       "      <td>0</td>\n",
       "      <td>0</td>\n",
       "      <td>...</td>\n",
       "      <td>7</td>\n",
       "      <td>1050</td>\n",
       "      <td>910</td>\n",
       "      <td>1965</td>\n",
       "      <td>0</td>\n",
       "      <td>98136</td>\n",
       "      <td>47.5208</td>\n",
       "      <td>-122.393</td>\n",
       "      <td>1360</td>\n",
       "      <td>5000</td>\n",
       "    </tr>\n",
       "    <tr>\n",
       "      <td>4</td>\n",
       "      <td>1954400510</td>\n",
       "      <td>20150218T000000</td>\n",
       "      <td>510000.0</td>\n",
       "      <td>3</td>\n",
       "      <td>2.00</td>\n",
       "      <td>1680</td>\n",
       "      <td>8080</td>\n",
       "      <td>1.0</td>\n",
       "      <td>0</td>\n",
       "      <td>0</td>\n",
       "      <td>...</td>\n",
       "      <td>8</td>\n",
       "      <td>1680</td>\n",
       "      <td>0</td>\n",
       "      <td>1987</td>\n",
       "      <td>0</td>\n",
       "      <td>98074</td>\n",
       "      <td>47.6168</td>\n",
       "      <td>-122.045</td>\n",
       "      <td>1800</td>\n",
       "      <td>7503</td>\n",
       "    </tr>\n",
       "    <tr>\n",
       "      <td>...</td>\n",
       "      <td>...</td>\n",
       "      <td>...</td>\n",
       "      <td>...</td>\n",
       "      <td>...</td>\n",
       "      <td>...</td>\n",
       "      <td>...</td>\n",
       "      <td>...</td>\n",
       "      <td>...</td>\n",
       "      <td>...</td>\n",
       "      <td>...</td>\n",
       "      <td>...</td>\n",
       "      <td>...</td>\n",
       "      <td>...</td>\n",
       "      <td>...</td>\n",
       "      <td>...</td>\n",
       "      <td>...</td>\n",
       "      <td>...</td>\n",
       "      <td>...</td>\n",
       "      <td>...</td>\n",
       "      <td>...</td>\n",
       "      <td>...</td>\n",
       "    </tr>\n",
       "    <tr>\n",
       "      <td>21608</td>\n",
       "      <td>263000018</td>\n",
       "      <td>20140521T000000</td>\n",
       "      <td>360000.0</td>\n",
       "      <td>3</td>\n",
       "      <td>2.50</td>\n",
       "      <td>1530</td>\n",
       "      <td>1131</td>\n",
       "      <td>3.0</td>\n",
       "      <td>0</td>\n",
       "      <td>0</td>\n",
       "      <td>...</td>\n",
       "      <td>8</td>\n",
       "      <td>1530</td>\n",
       "      <td>0</td>\n",
       "      <td>2009</td>\n",
       "      <td>0</td>\n",
       "      <td>98103</td>\n",
       "      <td>47.6993</td>\n",
       "      <td>-122.346</td>\n",
       "      <td>1530</td>\n",
       "      <td>1509</td>\n",
       "    </tr>\n",
       "    <tr>\n",
       "      <td>21609</td>\n",
       "      <td>6600060120</td>\n",
       "      <td>20150223T000000</td>\n",
       "      <td>400000.0</td>\n",
       "      <td>4</td>\n",
       "      <td>2.50</td>\n",
       "      <td>2310</td>\n",
       "      <td>5813</td>\n",
       "      <td>2.0</td>\n",
       "      <td>0</td>\n",
       "      <td>0</td>\n",
       "      <td>...</td>\n",
       "      <td>8</td>\n",
       "      <td>2310</td>\n",
       "      <td>0</td>\n",
       "      <td>2014</td>\n",
       "      <td>0</td>\n",
       "      <td>98146</td>\n",
       "      <td>47.5107</td>\n",
       "      <td>-122.362</td>\n",
       "      <td>1830</td>\n",
       "      <td>7200</td>\n",
       "    </tr>\n",
       "    <tr>\n",
       "      <td>21610</td>\n",
       "      <td>1523300141</td>\n",
       "      <td>20140623T000000</td>\n",
       "      <td>402101.0</td>\n",
       "      <td>2</td>\n",
       "      <td>0.75</td>\n",
       "      <td>1020</td>\n",
       "      <td>1350</td>\n",
       "      <td>2.0</td>\n",
       "      <td>0</td>\n",
       "      <td>0</td>\n",
       "      <td>...</td>\n",
       "      <td>7</td>\n",
       "      <td>1020</td>\n",
       "      <td>0</td>\n",
       "      <td>2009</td>\n",
       "      <td>0</td>\n",
       "      <td>98144</td>\n",
       "      <td>47.5944</td>\n",
       "      <td>-122.299</td>\n",
       "      <td>1020</td>\n",
       "      <td>2007</td>\n",
       "    </tr>\n",
       "    <tr>\n",
       "      <td>21611</td>\n",
       "      <td>291310100</td>\n",
       "      <td>20150116T000000</td>\n",
       "      <td>400000.0</td>\n",
       "      <td>3</td>\n",
       "      <td>2.50</td>\n",
       "      <td>1600</td>\n",
       "      <td>2388</td>\n",
       "      <td>2.0</td>\n",
       "      <td>0</td>\n",
       "      <td>0</td>\n",
       "      <td>...</td>\n",
       "      <td>8</td>\n",
       "      <td>1600</td>\n",
       "      <td>0</td>\n",
       "      <td>2004</td>\n",
       "      <td>0</td>\n",
       "      <td>98027</td>\n",
       "      <td>47.5345</td>\n",
       "      <td>-122.069</td>\n",
       "      <td>1410</td>\n",
       "      <td>1287</td>\n",
       "    </tr>\n",
       "    <tr>\n",
       "      <td>21612</td>\n",
       "      <td>1523300157</td>\n",
       "      <td>20141015T000000</td>\n",
       "      <td>325000.0</td>\n",
       "      <td>2</td>\n",
       "      <td>0.75</td>\n",
       "      <td>1020</td>\n",
       "      <td>1076</td>\n",
       "      <td>2.0</td>\n",
       "      <td>0</td>\n",
       "      <td>0</td>\n",
       "      <td>...</td>\n",
       "      <td>7</td>\n",
       "      <td>1020</td>\n",
       "      <td>0</td>\n",
       "      <td>2008</td>\n",
       "      <td>0</td>\n",
       "      <td>98144</td>\n",
       "      <td>47.5941</td>\n",
       "      <td>-122.299</td>\n",
       "      <td>1020</td>\n",
       "      <td>1357</td>\n",
       "    </tr>\n",
       "  </tbody>\n",
       "</table>\n",
       "<p>21613 rows × 21 columns</p>\n",
       "</div>"
      ],
      "text/plain": [
       "               id             date     price  bedrooms  bathrooms  \\\n",
       "0      7129300520  20141013T000000  221900.0         3       1.00   \n",
       "1      6414100192  20141209T000000  538000.0         3       2.25   \n",
       "2      5631500400  20150225T000000  180000.0         2       1.00   \n",
       "3      2487200875  20141209T000000  604000.0         4       3.00   \n",
       "4      1954400510  20150218T000000  510000.0         3       2.00   \n",
       "...           ...              ...       ...       ...        ...   \n",
       "21608   263000018  20140521T000000  360000.0         3       2.50   \n",
       "21609  6600060120  20150223T000000  400000.0         4       2.50   \n",
       "21610  1523300141  20140623T000000  402101.0         2       0.75   \n",
       "21611   291310100  20150116T000000  400000.0         3       2.50   \n",
       "21612  1523300157  20141015T000000  325000.0         2       0.75   \n",
       "\n",
       "       sqft_living  sqft_lot  floors  waterfront  view  ...  grade  \\\n",
       "0             1180      5650     1.0           0     0  ...      7   \n",
       "1             2570      7242     2.0           0     0  ...      7   \n",
       "2              770     10000     1.0           0     0  ...      6   \n",
       "3             1960      5000     1.0           0     0  ...      7   \n",
       "4             1680      8080     1.0           0     0  ...      8   \n",
       "...            ...       ...     ...         ...   ...  ...    ...   \n",
       "21608         1530      1131     3.0           0     0  ...      8   \n",
       "21609         2310      5813     2.0           0     0  ...      8   \n",
       "21610         1020      1350     2.0           0     0  ...      7   \n",
       "21611         1600      2388     2.0           0     0  ...      8   \n",
       "21612         1020      1076     2.0           0     0  ...      7   \n",
       "\n",
       "       sqft_above  sqft_basement  yr_built  yr_renovated  zipcode      lat  \\\n",
       "0            1180              0      1955             0    98178  47.5112   \n",
       "1            2170            400      1951          1991    98125  47.7210   \n",
       "2             770              0      1933             0    98028  47.7379   \n",
       "3            1050            910      1965             0    98136  47.5208   \n",
       "4            1680              0      1987             0    98074  47.6168   \n",
       "...           ...            ...       ...           ...      ...      ...   \n",
       "21608        1530              0      2009             0    98103  47.6993   \n",
       "21609        2310              0      2014             0    98146  47.5107   \n",
       "21610        1020              0      2009             0    98144  47.5944   \n",
       "21611        1600              0      2004             0    98027  47.5345   \n",
       "21612        1020              0      2008             0    98144  47.5941   \n",
       "\n",
       "          long  sqft_living15  sqft_lot15  \n",
       "0     -122.257           1340        5650  \n",
       "1     -122.319           1690        7639  \n",
       "2     -122.233           2720        8062  \n",
       "3     -122.393           1360        5000  \n",
       "4     -122.045           1800        7503  \n",
       "...        ...            ...         ...  \n",
       "21608 -122.346           1530        1509  \n",
       "21609 -122.362           1830        7200  \n",
       "21610 -122.299           1020        2007  \n",
       "21611 -122.069           1410        1287  \n",
       "21612 -122.299           1020        1357  \n",
       "\n",
       "[21613 rows x 21 columns]"
      ]
     },
     "execution_count": 2,
     "metadata": {},
     "output_type": "execute_result"
    }
   ],
   "source": [
    "data=pd.read_csv(\"house_data_complete.csv\")\n",
    "data"
   ]
  },
  {
   "cell_type": "code",
   "execution_count": 3,
   "metadata": {},
   "outputs": [
    {
     "data": {
      "text/plain": [
       "Text(0.5, 0, 'bedrooms')"
      ]
     },
     "execution_count": 3,
     "metadata": {},
     "output_type": "execute_result"
    },
    {
     "data": {
      "image/png": "[encoded data removed]",
      "text/plain": [
       "<Figure size 432x288 with 1 Axes>"
      ]
     },
     "metadata": {
      "needs_background": "light"
     },
     "output_type": "display_data"
    }
   ],
   "source": [
    "z,y = data[\"bedrooms\"],data[\"price\"]\n",
    "PricesList = []\n",
    "BedroomsList = []\n",
    "PricesList = list(y)\n",
    "BedroomsList =list(z)\n",
    "\n",
    "pyplot.plot(BedroomsList, PricesList, 'ro' , ms=10, mec='k')\n",
    "pyplot.ylabel('price')\n",
    "pyplot.xlabel('bedrooms')\n"
   ]
  },
  {
   "cell_type": "raw",
   "metadata": {},
   "source": []
  },
  {
   "cell_type": "raw",
   "metadata": {},
   "source": []
  },
  {
   "cell_type": "code",
   "execution_count": 4,
   "metadata": {},
   "outputs": [
    {
     "name": "stdout",
     "output_type": "stream",
     "text": [
      "       bedrooms  bathrooms  sqft_living  sqft_lot    floors  waterfront  \\\n",
      "0     -0.398728  -1.447430    -0.979812 -0.228316 -0.915406   -0.087171   \n",
      "1     -0.398728   0.175603     0.533622 -0.189881  0.936484   -0.087171   \n",
      "2     -1.473925  -1.447430    -1.426221 -0.123296 -0.915406   -0.087171   \n",
      "3      0.676469   1.149422    -0.130547 -0.244009 -0.915406   -0.087171   \n",
      "4     -0.398728  -0.149004    -0.435412 -0.169649 -0.915406   -0.087171   \n",
      "...         ...        ...          ...       ...       ...         ...   \n",
      "21608 -0.398728   0.500209    -0.598732 -0.337417  2.788374   -0.087171   \n",
      "21609  0.676469   0.500209     0.250534 -0.224381  0.936484   -0.087171   \n",
      "21610 -1.473925  -1.772037    -1.154021 -0.332129  0.936484   -0.087171   \n",
      "21611 -0.398728   0.500209    -0.522516 -0.307069  0.936484   -0.087171   \n",
      "21612 -1.473925  -1.772037    -1.154021 -0.338744  0.936484   -0.087171   \n",
      "\n",
      "           view  condition     grade  sqft_above  sqft_basement  yr_built  \\\n",
      "0     -0.305752  -0.629172 -0.558823   -0.734691      -0.658666 -0.544885   \n",
      "1     -0.305752  -0.629172 -0.558823    0.460830       0.245136 -0.681063   \n",
      "2     -0.305752  -0.629172 -1.409554   -1.229805      -0.658666 -1.293862   \n",
      "3     -0.305752   2.444237 -0.558823   -0.891678       1.397483 -0.204441   \n",
      "4     -0.305752  -0.629172  0.291909   -0.130892      -0.658666  0.544535   \n",
      "...         ...        ...       ...         ...            ...       ...   \n",
      "21608 -0.305752  -0.629172  0.291909   -0.312032      -0.658666  1.293512   \n",
      "21609 -0.305752  -0.629172  0.291909    0.629894      -0.658666  1.463734   \n",
      "21610 -0.305752  -0.629172 -0.558823   -0.927906      -0.658666  1.293512   \n",
      "21611 -0.305752  -0.629172  0.291909   -0.227500      -0.658666  1.123290   \n",
      "21612 -0.305752  -0.629172 -0.558823   -0.927906      -0.658666  1.259468   \n",
      "\n",
      "       yr_renovated   zipcode       lat      long  sqft_living15  sqft_lot15  \n",
      "0         -0.210124  1.870108 -0.352564 -0.306072      -0.943333   -0.260709  \n",
      "1          4.746568  0.879547  1.161541 -0.746324      -0.432676   -0.187863  \n",
      "2         -0.210124 -0.933367  1.283507 -0.135652       1.070115   -0.172371  \n",
      "3         -0.210124  1.085135 -0.283281 -1.271787      -0.914153   -0.284515  \n",
      "4         -0.210124 -0.073634  0.409541  1.199307      -0.272184   -0.192844  \n",
      "...             ...       ...       ...       ...            ...         ...  \n",
      "21608     -0.210124  0.468371  1.004935 -0.938047      -0.666119   -0.412371  \n",
      "21609     -0.210124  1.272034 -0.356172 -1.051660      -0.228413   -0.203942  \n",
      "21610     -0.210124  1.234654  0.247882 -0.604307      -1.410220   -0.394132  \n",
      "21611     -0.210124 -0.952056 -0.184410  1.028887      -0.841202   -0.420502  \n",
      "21612     -0.210124  1.234654  0.245717 -0.604307      -1.410220   -0.417938  \n",
      "\n",
      "[21613 rows x 18 columns]\n"
     ]
    }
   ],
   "source": [
    "columns =data.columns[3:]\n",
    "norm_data = (data[columns]-(data[columns]).mean())/(data[columns]).std()\n",
    "print(norm_data)\n",
    "data[columns] = norm_data"
   ]
  },
  {
   "cell_type": "code",
   "execution_count": 5,
   "metadata": {},
   "outputs": [],
   "source": [
    "train, validate , test = np.split(data.sample(frac=1),[int(.6*len(data)),int(.8*len(data))])"
   ]
  },
  {
   "cell_type": "code",
   "execution_count": 6,
   "metadata": {},
   "outputs": [
    {
     "data": {
      "text/html": [
       "<div>\n",
       "<style scoped>\n",
       "    .dataframe tbody tr th:only-of-type {\n",
       "        vertical-align: middle;\n",
       "    }\n",
       "\n",
       "    .dataframe tbody tr th {\n",
       "        vertical-align: top;\n",
       "    }\n",
       "\n",
       "    .dataframe thead th {\n",
       "        text-align: right;\n",
       "    }\n",
       "</style>\n",
       "<table border=\"1\" class=\"dataframe\">\n",
       "  <thead>\n",
       "    <tr style=\"text-align: right;\">\n",
       "      <th></th>\n",
       "      <th>id</th>\n",
       "      <th>date</th>\n",
       "      <th>price</th>\n",
       "      <th>bedrooms</th>\n",
       "      <th>bathrooms</th>\n",
       "      <th>sqft_living</th>\n",
       "      <th>sqft_lot</th>\n",
       "      <th>floors</th>\n",
       "      <th>waterfront</th>\n",
       "      <th>view</th>\n",
       "      <th>...</th>\n",
       "      <th>grade</th>\n",
       "      <th>sqft_above</th>\n",
       "      <th>sqft_basement</th>\n",
       "      <th>yr_built</th>\n",
       "      <th>yr_renovated</th>\n",
       "      <th>zipcode</th>\n",
       "      <th>lat</th>\n",
       "      <th>long</th>\n",
       "      <th>sqft_living15</th>\n",
       "      <th>sqft_lot15</th>\n",
       "    </tr>\n",
       "  </thead>\n",
       "  <tbody>\n",
       "    <tr>\n",
       "      <td>20085</td>\n",
       "      <td>6790830090</td>\n",
       "      <td>20150415T000000</td>\n",
       "      <td>1060000.0</td>\n",
       "      <td>0.676469</td>\n",
       "      <td>1.798635</td>\n",
       "      <td>2.330145</td>\n",
       "      <td>-0.161513</td>\n",
       "      <td>2.788374</td>\n",
       "      <td>-0.087171</td>\n",
       "      <td>-0.305752</td>\n",
       "      <td>...</td>\n",
       "      <td>1.993372</td>\n",
       "      <td>2.936404</td>\n",
       "      <td>-0.658666</td>\n",
       "      <td>1.395645</td>\n",
       "      <td>-0.210124</td>\n",
       "      <td>-0.054944</td>\n",
       "      <td>0.193755</td>\n",
       "      <td>1.135399</td>\n",
       "      <td>2.543726</td>\n",
       "      <td>-0.158710</td>\n",
       "    </tr>\n",
       "    <tr>\n",
       "      <td>7329</td>\n",
       "      <td>203101330</td>\n",
       "      <td>20140701T000000</td>\n",
       "      <td>485000.0</td>\n",
       "      <td>-0.398728</td>\n",
       "      <td>0.175603</td>\n",
       "      <td>0.392078</td>\n",
       "      <td>0.792096</td>\n",
       "      <td>0.936484</td>\n",
       "      <td>-0.087171</td>\n",
       "      <td>-0.305752</td>\n",
       "      <td>...</td>\n",
       "      <td>0.291909</td>\n",
       "      <td>0.364222</td>\n",
       "      <td>0.132161</td>\n",
       "      <td>0.680713</td>\n",
       "      <td>-0.210124</td>\n",
       "      <td>-0.466121</td>\n",
       "      <td>0.538723</td>\n",
       "      <td>1.817080</td>\n",
       "      <td>0.238473</td>\n",
       "      <td>0.411349</td>\n",
       "    </tr>\n",
       "    <tr>\n",
       "      <td>14842</td>\n",
       "      <td>2767900355</td>\n",
       "      <td>20140627T000000</td>\n",
       "      <td>523460.0</td>\n",
       "      <td>1.751667</td>\n",
       "      <td>-0.473610</td>\n",
       "      <td>-0.206763</td>\n",
       "      <td>-0.244009</td>\n",
       "      <td>0.010539</td>\n",
       "      <td>-0.087171</td>\n",
       "      <td>-0.305752</td>\n",
       "      <td>...</td>\n",
       "      <td>-0.558823</td>\n",
       "      <td>-0.843374</td>\n",
       "      <td>1.148937</td>\n",
       "      <td>-2.213061</td>\n",
       "      <td>-0.210124</td>\n",
       "      <td>0.543130</td>\n",
       "      <td>0.801418</td>\n",
       "      <td>-1.122669</td>\n",
       "      <td>-0.549398</td>\n",
       "      <td>-0.284515</td>\n",
       "    </tr>\n",
       "    <tr>\n",
       "      <td>13535</td>\n",
       "      <td>9320870040</td>\n",
       "      <td>20140626T000000</td>\n",
       "      <td>249900.0</td>\n",
       "      <td>-0.398728</td>\n",
       "      <td>0.500209</td>\n",
       "      <td>-0.489852</td>\n",
       "      <td>-0.178824</td>\n",
       "      <td>-0.915406</td>\n",
       "      <td>-0.087171</td>\n",
       "      <td>-0.305752</td>\n",
       "      <td>...</td>\n",
       "      <td>-0.558823</td>\n",
       "      <td>-0.807146</td>\n",
       "      <td>0.493681</td>\n",
       "      <td>0.238136</td>\n",
       "      <td>-0.210124</td>\n",
       "      <td>-0.877297</td>\n",
       "      <td>-1.244572</td>\n",
       "      <td>0.020567</td>\n",
       "      <td>-0.505627</td>\n",
       "      <td>-0.168782</td>\n",
       "    </tr>\n",
       "    <tr>\n",
       "      <td>11424</td>\n",
       "      <td>5119400075</td>\n",
       "      <td>20140620T000000</td>\n",
       "      <td>950000.0</td>\n",
       "      <td>-0.398728</td>\n",
       "      <td>1.474029</td>\n",
       "      <td>1.056247</td>\n",
       "      <td>0.091381</td>\n",
       "      <td>-0.915406</td>\n",
       "      <td>11.471225</td>\n",
       "      <td>4.914016</td>\n",
       "      <td>...</td>\n",
       "      <td>0.291909</td>\n",
       "      <td>-0.167120</td>\n",
       "      <td>2.504640</td>\n",
       "      <td>-0.306574</td>\n",
       "      <td>-0.210124</td>\n",
       "      <td>2.243905</td>\n",
       "      <td>-1.240964</td>\n",
       "      <td>-0.796030</td>\n",
       "      <td>-1.191367</td>\n",
       "      <td>2.131708</td>\n",
       "    </tr>\n",
       "    <tr>\n",
       "      <td>...</td>\n",
       "      <td>...</td>\n",
       "      <td>...</td>\n",
       "      <td>...</td>\n",
       "      <td>...</td>\n",
       "      <td>...</td>\n",
       "      <td>...</td>\n",
       "      <td>...</td>\n",
       "      <td>...</td>\n",
       "      <td>...</td>\n",
       "      <td>...</td>\n",
       "      <td>...</td>\n",
       "      <td>...</td>\n",
       "      <td>...</td>\n",
       "      <td>...</td>\n",
       "      <td>...</td>\n",
       "      <td>...</td>\n",
       "      <td>...</td>\n",
       "      <td>...</td>\n",
       "      <td>...</td>\n",
       "      <td>...</td>\n",
       "      <td>...</td>\n",
       "    </tr>\n",
       "    <tr>\n",
       "      <td>3759</td>\n",
       "      <td>561000300</td>\n",
       "      <td>20140623T000000</td>\n",
       "      <td>345100.0</td>\n",
       "      <td>-0.398728</td>\n",
       "      <td>2.123242</td>\n",
       "      <td>-0.141435</td>\n",
       "      <td>-0.156492</td>\n",
       "      <td>-0.915406</td>\n",
       "      <td>-0.087171</td>\n",
       "      <td>-0.305752</td>\n",
       "      <td>...</td>\n",
       "      <td>0.291909</td>\n",
       "      <td>-0.517323</td>\n",
       "      <td>0.674441</td>\n",
       "      <td>-0.408708</td>\n",
       "      <td>-0.210124</td>\n",
       "      <td>1.870108</td>\n",
       "      <td>-0.397308</td>\n",
       "      <td>-0.313173</td>\n",
       "      <td>-0.053331</td>\n",
       "      <td>-0.223352</td>\n",
       "    </tr>\n",
       "    <tr>\n",
       "      <td>7845</td>\n",
       "      <td>4139420590</td>\n",
       "      <td>20140520T000000</td>\n",
       "      <td>1212500.0</td>\n",
       "      <td>0.676469</td>\n",
       "      <td>1.798635</td>\n",
       "      <td>2.700337</td>\n",
       "      <td>0.037084</td>\n",
       "      <td>-0.915406</td>\n",
       "      <td>-0.087171</td>\n",
       "      <td>3.609074</td>\n",
       "      <td>...</td>\n",
       "      <td>3.694836</td>\n",
       "      <td>0.533286</td>\n",
       "      <td>4.605978</td>\n",
       "      <td>0.816891</td>\n",
       "      <td>-0.210124</td>\n",
       "      <td>-1.344543</td>\n",
       "      <td>-0.057393</td>\n",
       "      <td>0.702248</td>\n",
       "      <td>3.025203</td>\n",
       "      <td>0.088212</td>\n",
       "    </tr>\n",
       "    <tr>\n",
       "      <td>6454</td>\n",
       "      <td>2769602475</td>\n",
       "      <td>20140509T000000</td>\n",
       "      <td>490000.0</td>\n",
       "      <td>-1.473925</td>\n",
       "      <td>-1.447430</td>\n",
       "      <td>-0.261203</td>\n",
       "      <td>-0.285051</td>\n",
       "      <td>0.010539</td>\n",
       "      <td>-0.087171</td>\n",
       "      <td>-0.305752</td>\n",
       "      <td>...</td>\n",
       "      <td>-1.409554</td>\n",
       "      <td>-0.795070</td>\n",
       "      <td>0.945582</td>\n",
       "      <td>-2.076883</td>\n",
       "      <td>-0.210124</td>\n",
       "      <td>0.543130</td>\n",
       "      <td>0.834616</td>\n",
       "      <td>-1.051660</td>\n",
       "      <td>-0.972514</td>\n",
       "      <td>-0.321140</td>\n",
       "    </tr>\n",
       "    <tr>\n",
       "      <td>2694</td>\n",
       "      <td>6891100260</td>\n",
       "      <td>20141111T000000</td>\n",
       "      <td>830000.0</td>\n",
       "      <td>1.751667</td>\n",
       "      <td>1.798635</td>\n",
       "      <td>1.763968</td>\n",
       "      <td>-0.234352</td>\n",
       "      <td>0.936484</td>\n",
       "      <td>-0.087171</td>\n",
       "      <td>-0.305752</td>\n",
       "      <td>...</td>\n",
       "      <td>1.142641</td>\n",
       "      <td>1.330300</td>\n",
       "      <td>1.171532</td>\n",
       "      <td>1.361601</td>\n",
       "      <td>-0.210124</td>\n",
       "      <td>-0.466121</td>\n",
       "      <td>1.071330</td>\n",
       "      <td>0.688046</td>\n",
       "      <td>2.383233</td>\n",
       "      <td>-0.267668</td>\n",
       "    </tr>\n",
       "    <tr>\n",
       "      <td>10052</td>\n",
       "      <td>9345400350</td>\n",
       "      <td>20140718T000000</td>\n",
       "      <td>665000.0</td>\n",
       "      <td>-1.473925</td>\n",
       "      <td>0.500209</td>\n",
       "      <td>0.566286</td>\n",
       "      <td>-0.244009</td>\n",
       "      <td>-0.915406</td>\n",
       "      <td>-0.087171</td>\n",
       "      <td>-0.305752</td>\n",
       "      <td>...</td>\n",
       "      <td>0.291909</td>\n",
       "      <td>-0.589779</td>\n",
       "      <td>2.278689</td>\n",
       "      <td>-1.532173</td>\n",
       "      <td>-0.210124</td>\n",
       "      <td>0.898237</td>\n",
       "      <td>0.148289</td>\n",
       "      <td>-1.172375</td>\n",
       "      <td>0.398966</td>\n",
       "      <td>-0.284515</td>\n",
       "    </tr>\n",
       "  </tbody>\n",
       "</table>\n",
       "<p>12967 rows × 21 columns</p>\n",
       "</div>"
      ],
      "text/plain": [
       "               id             date      price  bedrooms  bathrooms  \\\n",
       "20085  6790830090  20150415T000000  1060000.0  0.676469   1.798635   \n",
       "7329    203101330  20140701T000000   485000.0 -0.398728   0.175603   \n",
       "14842  2767900355  20140627T000000   523460.0  1.751667  -0.473610   \n",
       "13535  9320870040  20140626T000000   249900.0 -0.398728   0.500209   \n",
       "11424  5119400075  20140620T000000   950000.0 -0.398728   1.474029   \n",
       "...           ...              ...        ...       ...        ...   \n",
       "3759    561000300  20140623T000000   345100.0 -0.398728   2.123242   \n",
       "7845   4139420590  20140520T000000  1212500.0  0.676469   1.798635   \n",
       "6454   2769602475  20140509T000000   490000.0 -1.473925  -1.447430   \n",
       "2694   6891100260  20141111T000000   830000.0  1.751667   1.798635   \n",
       "10052  9345400350  20140718T000000   665000.0 -1.473925   0.500209   \n",
       "\n",
       "       sqft_living  sqft_lot    floors  waterfront      view  ...     grade  \\\n",
       "20085     2.330145 -0.161513  2.788374   -0.087171 -0.305752  ...  1.993372   \n",
       "7329      0.392078  0.792096  0.936484   -0.087171 -0.305752  ...  0.291909   \n",
       "14842    -0.206763 -0.244009  0.010539   -0.087171 -0.305752  ... -0.558823   \n",
       "13535    -0.489852 -0.178824 -0.915406   -0.087171 -0.305752  ... -0.558823   \n",
       "11424     1.056247  0.091381 -0.915406   11.471225  4.914016  ...  0.291909   \n",
       "...            ...       ...       ...         ...       ...  ...       ...   \n",
       "3759     -0.141435 -0.156492 -0.915406   -0.087171 -0.305752  ...  0.291909   \n",
       "7845      2.700337  0.037084 -0.915406   -0.087171  3.609074  ...  3.694836   \n",
       "6454     -0.261203 -0.285051  0.010539   -0.087171 -0.305752  ... -1.409554   \n",
       "2694      1.763968 -0.234352  0.936484   -0.087171 -0.305752  ...  1.142641   \n",
       "10052     0.566286 -0.244009 -0.915406   -0.087171 -0.305752  ...  0.291909   \n",
       "\n",
       "       sqft_above  sqft_basement  yr_built  yr_renovated   zipcode       lat  \\\n",
       "20085    2.936404      -0.658666  1.395645     -0.210124 -0.054944  0.193755   \n",
       "7329     0.364222       0.132161  0.680713     -0.210124 -0.466121  0.538723   \n",
       "14842   -0.843374       1.148937 -2.213061     -0.210124  0.543130  0.801418   \n",
       "13535   -0.807146       0.493681  0.238136     -0.210124 -0.877297 -1.244572   \n",
       "11424   -0.167120       2.504640 -0.306574     -0.210124  2.243905 -1.240964   \n",
       "...           ...            ...       ...           ...       ...       ...   \n",
       "3759    -0.517323       0.674441 -0.408708     -0.210124  1.870108 -0.397308   \n",
       "7845     0.533286       4.605978  0.816891     -0.210124 -1.344543 -0.057393   \n",
       "6454    -0.795070       0.945582 -2.076883     -0.210124  0.543130  0.834616   \n",
       "2694     1.330300       1.171532  1.361601     -0.210124 -0.466121  1.071330   \n",
       "10052   -0.589779       2.278689 -1.532173     -0.210124  0.898237  0.148289   \n",
       "\n",
       "           long  sqft_living15  sqft_lot15  \n",
       "20085  1.135399       2.543726   -0.158710  \n",
       "7329   1.817080       0.238473    0.411349  \n",
       "14842 -1.122669      -0.549398   -0.284515  \n",
       "13535  0.020567      -0.505627   -0.168782  \n",
       "11424 -0.796030      -1.191367    2.131708  \n",
       "...         ...            ...         ...  \n",
       "3759  -0.313173      -0.053331   -0.223352  \n",
       "7845   0.702248       3.025203    0.088212  \n",
       "6454  -1.051660      -0.972514   -0.321140  \n",
       "2694   0.688046       2.383233   -0.267668  \n",
       "10052 -1.172375       0.398966   -0.284515  \n",
       "\n",
       "[12967 rows x 21 columns]"
      ]
     },
     "execution_count": 6,
     "metadata": {},
     "output_type": "execute_result"
    }
   ],
   "source": [
    "train"
   ]
  },
  {
   "cell_type": "code",
   "execution_count": 7,
   "metadata": {},
   "outputs": [
    {
     "data": {
      "text/plain": [
       "array([[6790830090, '20150415T000000', 1060000.0, ...,\n",
       "        1.1353993254269177, 2.5437257485265623, -0.1587103406951424],\n",
       "       [203101330, '20140701T000000', 485000.0, ..., 1.817080288055987,\n",
       "        0.2384732742155006, 0.41134890335316276],\n",
       "       [2767900355, '20140627T000000', 523460.0, ...,\n",
       "        -1.1226688632818742, -0.5493978245996725, -0.2845152557806501],\n",
       "       ...,\n",
       "       [2769602475, '20140509T000000', 490000.0, ..., -1.051660429674646,\n",
       "        -0.9725137850744876, -0.3211396852087456],\n",
       "       [6891100260, '20141111T000000', 830000.0, ..., 0.688046193701591,\n",
       "        2.383233487656805, -0.26766801824372627],\n",
       "       [9345400350, '20140718T000000', 665000.0, ...,\n",
       "        -1.1723747668067424, 0.39896553508525806, -0.2845152557806501]],\n",
       "      dtype=object)"
      ]
     },
     "execution_count": 7,
     "metadata": {},
     "output_type": "execute_result"
    }
   ],
   "source": [
    "train = train.to_numpy()\n",
    "train"
   ]
  },
  {
   "cell_type": "code",
   "execution_count": 8,
   "metadata": {},
   "outputs": [
    {
     "data": {
      "text/plain": [
       "array([[6102400166, '20140905T000000', 649000.0, ...,\n",
       "        -1.1013663331996149, 0.28224389081634355, 0.4447137585621577],\n",
       "       [2426049113, '20150414T000000', 459000.0, ...,\n",
       "        -0.17115585294539773, -0.31595453606184337, -0.15175169910380426],\n",
       "       [2206900065, '20150501T000000', 380000.0, ..., 0.432415832715791,\n",
       "        -0.6807096744022013, -0.04063318021896276],\n",
       "       ...,\n",
       "       [2770604925, '20140715T000000', 1300000.0, ...,\n",
       "        -1.1297697066424255, -0.11169165859124297, -0.3583867299371186],\n",
       "       [240000031, '20150313T000000', 322000.0, ...,\n",
       "        -0.49069380417767305, -0.06792104199040003, -0.09406822275455398],\n",
       "       [7950304065, '20150309T000000', 260000.0, ...,\n",
       "        -0.49069380417767305, -1.6728436506879747, -0.35666538175399815]],\n",
       "      dtype=object)"
      ]
     },
     "execution_count": 8,
     "metadata": {},
     "output_type": "execute_result"
    }
   ],
   "source": [
    "validate = validate.to_numpy()\n",
    "validate"
   ]
  },
  {
   "cell_type": "code",
   "execution_count": 9,
   "metadata": {},
   "outputs": [
    {
     "data": {
      "text/plain": [
       "array([[5045700400, '20150223T000000', 559950.0, ...,\n",
       "        0.42531498935503786, 1.084705195165131, -0.25741317800385954],\n",
       "       [2597800010, '20150304T000000', 600000.0, ...,\n",
       "        -1.2291815136925655, 0.3843753295516438, -0.1482723783081352],\n",
       "       [8691310840, '20140509T000000', 833000.0, ..., 1.6395592040380675,\n",
       "        2.208151021253433, -0.07429103086338246],\n",
       "       ...,\n",
       "       [4449800681, '20140623T000000', 450000.0, ...,\n",
       "        -1.2362823570532175, -0.46185659139798657, -0.30553767827237693],\n",
       "       [9558010190, '20141119T000000', 365500.0, ..., 0.6738445069801857,\n",
       "        0.06339080781212882, -0.3013991177470021],\n",
       "       [3790700070, '20141121T000000', 302500.0, ..., 0.1625837850083838,\n",
       "        -0.19923289179292888, -0.24675546904028378]], dtype=object)"
      ]
     },
     "execution_count": 9,
     "metadata": {},
     "output_type": "execute_result"
    }
   ],
   "source": [
    "test = test.to_numpy()\n",
    "test"
   ]
  },
  {
   "cell_type": "code",
   "execution_count": 10,
   "metadata": {},
   "outputs": [
    {
     "data": {
      "text/plain": [
       "array([[0.6764694086269151, 1.7986353476348453],\n",
       "       [-0.3987279239700485, 0.17560263270244408],\n",
       "       [1.7516667412238787, -0.4736104532705165],\n",
       "       ...,\n",
       "       [-1.473925256567012, -1.4474300822299573],\n",
       "       [1.7516667412238787, 1.7986353476348453],\n",
       "       [-1.473925256567012, 0.5002091756889243]], dtype=object)"
      ]
     },
     "execution_count": 10,
     "metadata": {},
     "output_type": "execute_result"
    }
   ],
   "source": [
    "train_x = train[:,[3,4]]\n",
    "train_x"
   ]
  },
  {
   "cell_type": "code",
   "execution_count": 11,
   "metadata": {},
   "outputs": [
    {
     "data": {
      "text/plain": [
       "array([1060000.0, 485000.0, 523460.0, ..., 490000.0, 830000.0, 665000.0],\n",
       "      dtype=object)"
      ]
     },
     "execution_count": 11,
     "metadata": {},
     "output_type": "execute_result"
    }
   ],
   "source": [
    "train_y =train[:,2]\n",
    "train_y"
   ]
  },
  {
   "cell_type": "code",
   "execution_count": 12,
   "metadata": {},
   "outputs": [
    {
     "data": {
      "text/plain": [
       "12967"
      ]
     },
     "execution_count": 12,
     "metadata": {},
     "output_type": "execute_result"
    }
   ],
   "source": [
    "train_m =train_y.size\n",
    "train_m"
   ]
  },
  {
   "cell_type": "code",
   "execution_count": 13,
   "metadata": {},
   "outputs": [
    {
     "data": {
      "text/plain": [
       "array([[1.0, 0.6764694086269151, 1.7986353476348453],\n",
       "       [1.0, -0.3987279239700485, 0.17560263270244408],\n",
       "       [1.0, 1.7516667412238787, -0.4736104532705165],\n",
       "       ...,\n",
       "       [1.0, -1.473925256567012, -1.4474300822299573],\n",
       "       [1.0, 1.7516667412238787, 1.7986353476348453],\n",
       "       [1.0, -1.473925256567012, 0.5002091756889243]], dtype=object)"
      ]
     },
     "execution_count": 13,
     "metadata": {},
     "output_type": "execute_result"
    }
   ],
   "source": [
    "train_x = np.concatenate([np.ones((train_m,1)), train_x], axis =1)\n",
    "train_x"
   ]
  },
  {
   "cell_type": "code",
   "execution_count": 14,
   "metadata": {},
   "outputs": [],
   "source": [
    "def computeCostMulti(train_x, train_y, theta):\n",
    "    \n",
    "    #intialize some useful values \n",
    "    \n",
    "    train_m = train_y.shape[0] #number of training examples \n",
    "    \n",
    "    #you need to return the following variable correctly \n",
    "    \n",
    "    j=0\n",
    "    #==============your code here =============\n",
    "    \n",
    "    j=0\n",
    "    \n",
    "    j=np.dot((np.dot(train_x,theta)-train_y),(np.dot(train_x,theta)-train_y))/(2*train_m) \n",
    "    \n",
    "    #=====================================================\n",
    "    \n",
    "    return j\n"
   ]
  },
  {
   "cell_type": "code",
   "execution_count": 15,
   "metadata": {},
   "outputs": [],
   "source": [
    "def gradientDescentMulti(train_x,train_y, theta, alpha, num_iters):\n",
    "    \n",
    "    #intialize some useful values\n",
    "    \n",
    "    train_m = train_y.shape[0] #number of trainig examples \n",
    "    \n",
    "    #Make a copy of theta, which will be updated by Gradient Descent \n",
    "    \n",
    "    theta = theta.copy()\n",
    "    j_history= []\n",
    "    for i in range(num_iters):\n",
    "        #==================YOUR CODE IS HERE =================\n",
    "        sumofh0x=np.dot(train_x,theta)\n",
    "        theta =theta-((alpha/train_m)*(np.dot(train_x.T,sumofh0x- train_y)))\n",
    "        #=======================================\n",
    "        \n",
    "        #save the cost j in every iteration\n",
    "        \n",
    "        j_history.append(computeCostMulti(train_x, train_y, theta))\n",
    "    return theta, j_history"
   ]
  },
  {
   "cell_type": "code",
   "execution_count": 16,
   "metadata": {},
   "outputs": [
    {
     "data": {
      "text/plain": [
       "Text(0, 0.5, 'Cost j')"
      ]
     },
     "execution_count": 16,
     "metadata": {},
     "output_type": "execute_result"
    },
    {
     "data": {
      "image/png": "[encoded data removed]",
      "text/plain": [
       "<Figure size 432x288 with 1 Axes>"
      ]
     },
     "metadata": {
      "needs_background": "light"
     },
     "output_type": "display_data"
    }
   ],
   "source": [
    "# choose some alpha value - change this \n",
    "alpha = 0.03\n",
    "num_iters = 100\n",
    "\n",
    "#init theta and run gradient descnt\n",
    "theta = np.zeros(3) \n",
    "theta, j_history = gradientDescentMulti(train_x, train_y, theta, alpha, num_iters) \n",
    "#print(j_history)\n",
    "#plot the convergence graph \n",
    "pyplot.plot(np.arange(len(j_history)), j_history, lw=2)\n",
    "pyplot.xlabel('number of itierations')\n",
    "pyplot.ylabel('Cost j')\n"
   ]
  },
  {
   "cell_type": "code",
   "execution_count": 17,
   "metadata": {},
   "outputs": [],
   "source": [
    "def computeCostMulti2(train_x, train_y, theta):\n",
    "  #  initialize some useful values\n",
    "\n",
    " train_m = train_y.shape[0]  #number of training examples \n",
    "\n",
    "#you need to return the following variable correctly\n",
    "\n",
    " j=0\n",
    "#===================your code here==============\n",
    " j=0\n",
    " j=np.dot((np.dot(np.square(train_x),theta)-train_y),(np.dot(np.square(train_x),theta)-train_y))/(2*train_m)\n",
    "#==========================\n",
    " return j"
   ]
  },
  {
   "cell_type": "code",
   "execution_count": 18,
   "metadata": {},
   "outputs": [],
   "source": [
    "def gradientDescentMulti2(train_x, train_y, theta, alpha, num_iters):\n",
    "    train_m = train_y.shape[0]\n",
    "    theta=theta.copy()\n",
    "    j_history = []\n",
    "    for i in range(num_iters):\n",
    "        sumofh0x=np.dot(np.square(train_x),theta)\n",
    "        theta = theta-((alpha/train_m)*(np.dot(np.square(train_x).T,sumofh0x -train_y)))\n",
    "        j_history.append(computeCostMulti2(train_x, train_y, theta))\n",
    "     \n",
    "    return theta, j_history"
   ]
  },
  {
   "cell_type": "code",
   "execution_count": 19,
   "metadata": {},
   "outputs": [
    {
     "data": {
      "text/plain": [
       "Text(0, 0.5, 'cost j')"
      ]
     },
     "execution_count": 19,
     "metadata": {},
     "output_type": "execute_result"
    },
    {
     "data": {
      "image/png": "[encoded data removed]",
      "text/plain": [
       "<Figure size 432x288 with 1 Axes>"
      ]
     },
     "metadata": {
      "needs_background": "light"
     },
     "output_type": "display_data"
    }
   ],
   "source": [
    "alpha=0.01\n",
    "num_iters = 100\n",
    "theta = np.zeros(3)\n",
    "#intiate theta and run gradient descent \n",
    "\n",
    "theta, j_historyy = gradientDescentMulti2(train_x, train_y, theta, alpha, num_iters)\n",
    "\n",
    "#plot the convergence graph\n",
    "\n",
    "pyplot.plot(np.arange(len(j_history)), j_history, lw=2)\n",
    "pyplot.xlabel('number of itirations')\n",
    "pyplot.ylabel('cost j')"
   ]
  },
  {
   "cell_type": "code",
   "execution_count": 20,
   "metadata": {},
   "outputs": [],
   "source": [
    "def computeCostMulti3(train_x, train_y, theta):\n",
    "  #  initialize some useful values\n",
    "\n",
    " train_m = train_y.shape[0]  #number of training examples \n",
    "\n",
    "#you need to return the following variable correctly\n",
    "\n",
    " j=0\n",
    "#===================your code here==============\n",
    " j=0\n",
    "    \n",
    " j =np.dot((np.dot(np.power(train_x,3),theta)-train_y),(np.dot(np.power(train_x,3),theta)-train_y))/(2*train_m)\n",
    "#==========================\n",
    " return j"
   ]
  },
  {
   "cell_type": "code",
   "execution_count": 21,
   "metadata": {},
   "outputs": [],
   "source": [
    "def gradientDescentMulti3(train_x, train_y, theta, alpha, num_iters):\n",
    "    train_m = train_y.shape[0]\n",
    "    theta=theta.copy()\n",
    "    j_history = []\n",
    "    for i in range(num_iters):\n",
    "        sumofh0x=np.dot(np.power(train_x,3),theta)\n",
    "        theta = theta-((alpha/train_m)*(np.dot(np.power(train_x,3).T,sumofh0x -train_y)))\n",
    "        j_history.append(computeCostMulti3(train_x, train_y, theta))\n",
    "     \n",
    "    return theta, j_history"
   ]
  },
  {
   "cell_type": "code",
   "execution_count": 22,
   "metadata": {},
   "outputs": [
    {
     "data": {
      "text/plain": [
       "Text(0, 0.5, 'cost j')"
      ]
     },
     "execution_count": 22,
     "metadata": {},
     "output_type": "execute_result"
    },
    {
     "data": {
      "image/png": "[encoded data removed]",
      "text/plain": [
       "<Figure size 432x288 with 1 Axes>"
      ]
     },
     "metadata": {
      "needs_background": "light"
     },
     "output_type": "display_data"
    }
   ],
   "source": [
    "alpha=0.01\n",
    "num_iters = 100\n",
    "theta = np.zeros(3)\n",
    "#intiate theta and run gradient descent \n",
    "\n",
    "theta, j_historyy = gradientDescentMulti3(train_x, train_y, theta, alpha, num_iters)\n",
    "\n",
    "#plot the convergence graph\n",
    "\n",
    "pyplot.plot(np.arange(len(j_history)), j_history, lw=2)\n",
    "pyplot.xlabel('number of itirations')\n",
    "pyplot.ylabel('cost j')"
   ]
  },
  {
   "cell_type": "code",
   "execution_count": 23,
   "metadata": {},
   "outputs": [
    {
     "data": {
      "text/plain": [
       "array([[-0.3987279239700485, -0.1490039102840362],\n",
       "       [0.6764694086269151, -0.7982169962569967],\n",
       "       [-0.3987279239700485, -0.7982169962569967],\n",
       "       ...,\n",
       "       [1.7516667412238787, -1.4474300822299573],\n",
       "       [0.6764694086269151, 0.17560263270244408],\n",
       "       [-1.473925256567012, -1.4474300822299573]], dtype=object)"
      ]
     },
     "execution_count": 23,
     "metadata": {},
     "output_type": "execute_result"
    }
   ],
   "source": [
    "validate_x = validate[:,[3,4]]\n",
    "validate_x"
   ]
  },
  {
   "cell_type": "code",
   "execution_count": 24,
   "metadata": {},
   "outputs": [
    {
     "data": {
      "text/plain": [
       "array([649000.0, 459000.0, 380000.0, ..., 1300000.0, 322000.0, 260000.0],\n",
       "      dtype=object)"
      ]
     },
     "execution_count": 24,
     "metadata": {},
     "output_type": "execute_result"
    }
   ],
   "source": [
    "validate_y =validate[:,2]\n",
    "validate_y"
   ]
  },
  {
   "cell_type": "code",
   "execution_count": 25,
   "metadata": {},
   "outputs": [
    {
     "data": {
      "text/plain": [
       "4323"
      ]
     },
     "execution_count": 25,
     "metadata": {},
     "output_type": "execute_result"
    }
   ],
   "source": [
    "validate_m =validate_y.size\n",
    "validate_m"
   ]
  },
  {
   "cell_type": "code",
   "execution_count": 26,
   "metadata": {},
   "outputs": [
    {
     "data": {
      "text/plain": [
       "array([[1.0, -0.3987279239700485, -0.1490039102840362],\n",
       "       [1.0, 0.6764694086269151, -0.7982169962569967],\n",
       "       [1.0, -0.3987279239700485, -0.7982169962569967],\n",
       "       ...,\n",
       "       [1.0, 1.7516667412238787, -1.4474300822299573],\n",
       "       [1.0, 0.6764694086269151, 0.17560263270244408],\n",
       "       [1.0, -1.473925256567012, -1.4474300822299573]], dtype=object)"
      ]
     },
     "execution_count": 26,
     "metadata": {},
     "output_type": "execute_result"
    }
   ],
   "source": [
    "validate_x = np.concatenate([np.ones((validate_m,1)), validate_x], axis =1)\n",
    "validate_x"
   ]
  },
  {
   "cell_type": "code",
   "execution_count": 27,
   "metadata": {},
   "outputs": [
    {
     "data": {
      "text/plain": [
       "Text(0, 0.5, 'Cost j')"
      ]
     },
     "execution_count": 27,
     "metadata": {},
     "output_type": "execute_result"
    },
    {
     "data": {
      "image/png": "[encoded data removed]",
      "text/plain": [
       "<Figure size 432x288 with 1 Axes>"
      ]
     },
     "metadata": {
      "needs_background": "light"
     },
     "output_type": "display_data"
    }
   ],
   "source": [
    "# choose some alpha value - change this \n",
    "alpha = 0.03\n",
    "num_iters = 100\n",
    "\n",
    "#init theta and run gradient descnt\n",
    "theta = np.zeros(3) \n",
    "theta, j_history = gradientDescentMulti(validate_x, validate_y, theta, alpha, num_iters) \n",
    "#print(j_history)\n",
    "#plot the convergence graph \n",
    "pyplot.plot(np.arange(len(j_history)), j_history, lw=2)\n",
    "pyplot.xlabel('number of itierations')\n",
    "pyplot.ylabel('Cost j')\n"
   ]
  },
  {
   "cell_type": "code",
   "execution_count": 28,
   "metadata": {},
   "outputs": [
    {
     "data": {
      "text/plain": [
       "Text(0, 0.5, 'cost j')"
      ]
     },
     "execution_count": 28,
     "metadata": {},
     "output_type": "execute_result"
    },
    {
     "data": {
      "image/png": "[encoded data removed]",
      "text/plain": [
       "<Figure size 432x288 with 1 Axes>"
      ]
     },
     "metadata": {
      "needs_background": "light"
     },
     "output_type": "display_data"
    }
   ],
   "source": [
    "alpha=0.01\n",
    "num_iters = 100\n",
    "theta = np.zeros(3)\n",
    "#intiate theta and run gradient descent \n",
    "\n",
    "theta, j_historyy = gradientDescentMulti2(validate_x, validate_y, theta, alpha, num_iters)\n",
    "\n",
    "#plot the convergence graph\n",
    "\n",
    "pyplot.plot(np.arange(len(j_history)), j_history, lw=2)\n",
    "pyplot.xlabel('number of itirations')\n",
    "pyplot.ylabel('cost j')"
   ]
  },
  {
   "cell_type": "code",
   "execution_count": 29,
   "metadata": {},
   "outputs": [
    {
     "data": {
      "text/plain": [
       "Text(0, 0.5, 'cost j')"
      ]
     },
     "execution_count": 29,
     "metadata": {},
     "output_type": "execute_result"
    },
    {
     "data": {
      "image/png": "[encoded data removed]",
      "text/plain": [
       "<Figure size 432x288 with 1 Axes>"
      ]
     },
     "metadata": {
      "needs_background": "light"
     },
     "output_type": "display_data"
    }
   ],
   "source": [
    "alpha=0.01\n",
    "num_iters = 100\n",
    "theta = np.zeros(3)\n",
    "#intiate theta and run gradient descent \n",
    "\n",
    "theta, j_historyy = gradientDescentMulti3(validate_x, validate_y, theta, alpha, num_iters)\n",
    "\n",
    "#plot the convergence graph\n",
    "\n",
    "pyplot.plot(np.arange(len(j_history)), j_history, lw=2)\n",
    "pyplot.xlabel('number of itirations')\n",
    "pyplot.ylabel('cost j')"
   ]
  },
  {
   "cell_type": "code",
   "execution_count": 30,
   "metadata": {},
   "outputs": [
    {
     "data": {
      "text/plain": [
       "array([[1.7516667412238787, 0.8248157186754046],\n",
       "       [-0.3987279239700485, -1.4474300822299573],\n",
       "       [0.6764694086269151, 0.8248157186754046],\n",
       "       ...,\n",
       "       [0.6764694086269151, -0.4736104532705165],\n",
       "       [0.6764694086269151, 0.5002091756889243],\n",
       "       [0.6764694086269151, 0.5002091756889243]], dtype=object)"
      ]
     },
     "execution_count": 30,
     "metadata": {},
     "output_type": "execute_result"
    }
   ],
   "source": [
    "test_x = test[:,[3,4]]\n",
    "test_x"
   ]
  },
  {
   "cell_type": "code",
   "execution_count": 31,
   "metadata": {},
   "outputs": [
    {
     "data": {
      "text/plain": [
       "array([559950.0, 600000.0, 833000.0, ..., 450000.0, 365500.0, 302500.0],\n",
       "      dtype=object)"
      ]
     },
     "execution_count": 31,
     "metadata": {},
     "output_type": "execute_result"
    }
   ],
   "source": [
    "test_y =test[:,2]\n",
    "test_y"
   ]
  },
  {
   "cell_type": "code",
   "execution_count": 32,
   "metadata": {},
   "outputs": [
    {
     "data": {
      "text/plain": [
       "4323"
      ]
     },
     "execution_count": 32,
     "metadata": {},
     "output_type": "execute_result"
    }
   ],
   "source": [
    "test_m =test_y.size\n",
    "test_m"
   ]
  },
  {
   "cell_type": "code",
   "execution_count": 33,
   "metadata": {},
   "outputs": [
    {
     "data": {
      "text/plain": [
       "array([[1.0, 1.7516667412238787, 0.8248157186754046],\n",
       "       [1.0, -0.3987279239700485, -1.4474300822299573],\n",
       "       [1.0, 0.6764694086269151, 0.8248157186754046],\n",
       "       ...,\n",
       "       [1.0, 0.6764694086269151, -0.4736104532705165],\n",
       "       [1.0, 0.6764694086269151, 0.5002091756889243],\n",
       "       [1.0, 0.6764694086269151, 0.5002091756889243]], dtype=object)"
      ]
     },
     "execution_count": 33,
     "metadata": {},
     "output_type": "execute_result"
    }
   ],
   "source": [
    "test_x = np.concatenate([np.ones((test_m,1)), test_x], axis =1)\n",
    "test_x"
   ]
  },
  {
   "cell_type": "code",
   "execution_count": 34,
   "metadata": {},
   "outputs": [
    {
     "data": {
      "text/plain": [
       "Text(0, 0.5, 'Cost j')"
      ]
     },
     "execution_count": 34,
     "metadata": {},
     "output_type": "execute_result"
    },
    {
     "data": {
      "image/png": "[encoded data removed]",
      "text/plain": [
       "<Figure size 432x288 with 1 Axes>"
      ]
     },
     "metadata": {
      "needs_background": "light"
     },
     "output_type": "display_data"
    }
   ],
   "source": [
    "# choose some alpha value - change this \n",
    "alpha = 0.03\n",
    "num_iters = 100\n",
    "\n",
    "#init theta and run gradient descnt\n",
    "theta = np.zeros(3) \n",
    "theta, j_history = gradientDescentMulti(test_x, test_y, theta, alpha, num_iters) \n",
    "#print(j_history)\n",
    "#plot the convergence graph \n",
    "pyplot.plot(np.arange(len(j_history)), j_history, lw=2)\n",
    "pyplot.xlabel('number of itierations')\n",
    "pyplot.ylabel('Cost j')\n"
   ]
  },
  {
   "cell_type": "code",
   "execution_count": 35,
   "metadata": {},
   "outputs": [
    {
     "data": {
      "text/plain": [
       "Text(0, 0.5, 'cost j')"
      ]
     },
     "execution_count": 35,
     "metadata": {},
     "output_type": "execute_result"
    },
    {
     "data": {
      "image/png": "[encoded data removed]",
      "text/plain": [
       "<Figure size 432x288 with 1 Axes>"
      ]
     },
     "metadata": {
      "needs_background": "light"
     },
     "output_type": "display_data"
    }
   ],
   "source": [
    "alpha=0.01\n",
    "num_iters = 100\n",
    "theta = np.zeros(3)\n",
    "#intiate theta and run gradient descent \n",
    "\n",
    "theta, j_historyy = gradientDescentMulti2(test_x, test_y, theta, alpha, num_iters)\n",
    "\n",
    "#plot the convergence graph\n",
    "\n",
    "pyplot.plot(np.arange(len(j_history)), j_history, lw=2)\n",
    "pyplot.xlabel('number of itirations')\n",
    "pyplot.ylabel('cost j')"
   ]
  },
  {
   "cell_type": "code",
   "execution_count": 36,
   "metadata": {},
   "outputs": [
    {
     "data": {
      "text/plain": [
       "Text(0, 0.5, 'cost j')"
      ]
     },
     "execution_count": 36,
     "metadata": {},
     "output_type": "execute_result"
    },
    {
     "data": {
      "image/png": "[encoded data removed]",
      "text/plain": [
       "<Figure size 432x288 with 1 Axes>"
      ]
     },
     "metadata": {
      "needs_background": "light"
     },
     "output_type": "display_data"
    }
   ],
   "source": [
    "alpha=0.01\n",
    "num_iters = 100\n",
    "theta = np.zeros(3)\n",
    "#intiate theta and run gradient descent \n",
    "\n",
    "theta, j_historyy = gradientDescentMulti3(test_x, test_y, theta, alpha, num_iters)\n",
    "\n",
    "#plot the convergence graph\n",
    "\n",
    "pyplot.plot(np.arange(len(j_history)), j_history, lw=2)\n",
    "pyplot.xlabel('number of itirations')\n",
    "pyplot.ylabel('cost j')"
   ]
  },
  {
   "cell_type": "code",
   "execution_count": null,
   "metadata": {},
   "outputs": [],
   "source": []
  }
 ],
 "metadata": {
  "kernelspec": {
   "display_name": "Python 3",
   "language": "python",
   "name": "python3"
  },
  "language_info": {
   "codemirror_mode": {
    "name": "ipython",
    "version": 3
   },
   "file_extension": ".py",
   "mimetype": "text/x-python",
   "name": "python",
   "nbconvert_exporter": "python",
   "pygments_lexer": "ipython3",
   "version": "3.7.4"
  }
 },
 "nbformat": 4,
 "nbformat_minor": 2
}
