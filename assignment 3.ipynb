{
 "cells": [
  {
   "cell_type": "code",
   "execution_count": 88,
   "metadata": {},
   "outputs": [],
   "source": [
    "#used for manipulating directory paths\n",
    "import os \n",
    "#scintific and vector computation for python \n",
    "import numpy as np\n",
    "#plotting library\n",
    "\n",
    "from matplotlib import pyplot\n",
    "\n",
    "import pandas as pd"
   ]
  },
  {
   "cell_type": "code",
   "execution_count": 89,
   "metadata": {},
   "outputs": [
    {
     "data": {
      "text/html": [
       "<div>\n",
       "<style scoped>\n",
       "    .dataframe tbody tr th:only-of-type {\n",
       "        vertical-align: middle;\n",
       "    }\n",
       "\n",
       "    .dataframe tbody tr th {\n",
       "        vertical-align: top;\n",
       "    }\n",
       "\n",
       "    .dataframe thead th {\n",
       "        text-align: right;\n",
       "    }\n",
       "</style>\n",
       "<table border=\"1\" class=\"dataframe\">\n",
       "  <thead>\n",
       "    <tr style=\"text-align: right;\">\n",
       "      <th></th>\n",
       "      <th>id</th>\n",
       "      <th>date</th>\n",
       "      <th>price</th>\n",
       "      <th>bedrooms</th>\n",
       "      <th>bathrooms</th>\n",
       "      <th>sqft_living</th>\n",
       "      <th>sqft_lot</th>\n",
       "      <th>floors</th>\n",
       "      <th>waterfront</th>\n",
       "      <th>view</th>\n",
       "      <th>...</th>\n",
       "      <th>grade</th>\n",
       "      <th>sqft_above</th>\n",
       "      <th>sqft_basement</th>\n",
       "      <th>yr_built</th>\n",
       "      <th>yr_renovated</th>\n",
       "      <th>zipcode</th>\n",
       "      <th>lat</th>\n",
       "      <th>long</th>\n",
       "      <th>sqft_living15</th>\n",
       "      <th>sqft_lot15</th>\n",
       "    </tr>\n",
       "  </thead>\n",
       "  <tbody>\n",
       "    <tr>\n",
       "      <td>0</td>\n",
       "      <td>7129300520</td>\n",
       "      <td>20141013T000000</td>\n",
       "      <td>221900.0</td>\n",
       "      <td>3</td>\n",
       "      <td>1.00</td>\n",
       "      <td>1180</td>\n",
       "      <td>5650</td>\n",
       "      <td>1.0</td>\n",
       "      <td>0</td>\n",
       "      <td>0</td>\n",
       "      <td>...</td>\n",
       "      <td>7</td>\n",
       "      <td>1180</td>\n",
       "      <td>0</td>\n",
       "      <td>1955</td>\n",
       "      <td>0</td>\n",
       "      <td>98178</td>\n",
       "      <td>47.5112</td>\n",
       "      <td>-122.257</td>\n",
       "      <td>1340</td>\n",
       "      <td>5650</td>\n",
       "    </tr>\n",
       "    <tr>\n",
       "      <td>1</td>\n",
       "      <td>6414100192</td>\n",
       "      <td>20141209T000000</td>\n",
       "      <td>538000.0</td>\n",
       "      <td>3</td>\n",
       "      <td>2.25</td>\n",
       "      <td>2570</td>\n",
       "      <td>7242</td>\n",
       "      <td>2.0</td>\n",
       "      <td>0</td>\n",
       "      <td>0</td>\n",
       "      <td>...</td>\n",
       "      <td>7</td>\n",
       "      <td>2170</td>\n",
       "      <td>400</td>\n",
       "      <td>1951</td>\n",
       "      <td>1991</td>\n",
       "      <td>98125</td>\n",
       "      <td>47.7210</td>\n",
       "      <td>-122.319</td>\n",
       "      <td>1690</td>\n",
       "      <td>7639</td>\n",
       "    </tr>\n",
       "    <tr>\n",
       "      <td>2</td>\n",
       "      <td>5631500400</td>\n",
       "      <td>20150225T000000</td>\n",
       "      <td>180000.0</td>\n",
       "      <td>2</td>\n",
       "      <td>1.00</td>\n",
       "      <td>770</td>\n",
       "      <td>10000</td>\n",
       "      <td>1.0</td>\n",
       "      <td>0</td>\n",
       "      <td>0</td>\n",
       "      <td>...</td>\n",
       "      <td>6</td>\n",
       "      <td>770</td>\n",
       "      <td>0</td>\n",
       "      <td>1933</td>\n",
       "      <td>0</td>\n",
       "      <td>98028</td>\n",
       "      <td>47.7379</td>\n",
       "      <td>-122.233</td>\n",
       "      <td>2720</td>\n",
       "      <td>8062</td>\n",
       "    </tr>\n",
       "    <tr>\n",
       "      <td>3</td>\n",
       "      <td>2487200875</td>\n",
       "      <td>20141209T000000</td>\n",
       "      <td>604000.0</td>\n",
       "      <td>4</td>\n",
       "      <td>3.00</td>\n",
       "      <td>1960</td>\n",
       "      <td>5000</td>\n",
       "      <td>1.0</td>\n",
       "      <td>0</td>\n",
       "      <td>0</td>\n",
       "      <td>...</td>\n",
       "      <td>7</td>\n",
       "      <td>1050</td>\n",
       "      <td>910</td>\n",
       "      <td>1965</td>\n",
       "      <td>0</td>\n",
       "      <td>98136</td>\n",
       "      <td>47.5208</td>\n",
       "      <td>-122.393</td>\n",
       "      <td>1360</td>\n",
       "      <td>5000</td>\n",
       "    </tr>\n",
       "    <tr>\n",
       "      <td>4</td>\n",
       "      <td>1954400510</td>\n",
       "      <td>20150218T000000</td>\n",
       "      <td>510000.0</td>\n",
       "      <td>3</td>\n",
       "      <td>2.00</td>\n",
       "      <td>1680</td>\n",
       "      <td>8080</td>\n",
       "      <td>1.0</td>\n",
       "      <td>0</td>\n",
       "      <td>0</td>\n",
       "      <td>...</td>\n",
       "      <td>8</td>\n",
       "      <td>1680</td>\n",
       "      <td>0</td>\n",
       "      <td>1987</td>\n",
       "      <td>0</td>\n",
       "      <td>98074</td>\n",
       "      <td>47.6168</td>\n",
       "      <td>-122.045</td>\n",
       "      <td>1800</td>\n",
       "      <td>7503</td>\n",
       "    </tr>\n",
       "    <tr>\n",
       "      <td>...</td>\n",
       "      <td>...</td>\n",
       "      <td>...</td>\n",
       "      <td>...</td>\n",
       "      <td>...</td>\n",
       "      <td>...</td>\n",
       "      <td>...</td>\n",
       "      <td>...</td>\n",
       "      <td>...</td>\n",
       "      <td>...</td>\n",
       "      <td>...</td>\n",
       "      <td>...</td>\n",
       "      <td>...</td>\n",
       "      <td>...</td>\n",
       "      <td>...</td>\n",
       "      <td>...</td>\n",
       "      <td>...</td>\n",
       "      <td>...</td>\n",
       "      <td>...</td>\n",
       "      <td>...</td>\n",
       "      <td>...</td>\n",
       "      <td>...</td>\n",
       "    </tr>\n",
       "    <tr>\n",
       "      <td>21608</td>\n",
       "      <td>263000018</td>\n",
       "      <td>20140521T000000</td>\n",
       "      <td>360000.0</td>\n",
       "      <td>3</td>\n",
       "      <td>2.50</td>\n",
       "      <td>1530</td>\n",
       "      <td>1131</td>\n",
       "      <td>3.0</td>\n",
       "      <td>0</td>\n",
       "      <td>0</td>\n",
       "      <td>...</td>\n",
       "      <td>8</td>\n",
       "      <td>1530</td>\n",
       "      <td>0</td>\n",
       "      <td>2009</td>\n",
       "      <td>0</td>\n",
       "      <td>98103</td>\n",
       "      <td>47.6993</td>\n",
       "      <td>-122.346</td>\n",
       "      <td>1530</td>\n",
       "      <td>1509</td>\n",
       "    </tr>\n",
       "    <tr>\n",
       "      <td>21609</td>\n",
       "      <td>6600060120</td>\n",
       "      <td>20150223T000000</td>\n",
       "      <td>400000.0</td>\n",
       "      <td>4</td>\n",
       "      <td>2.50</td>\n",
       "      <td>2310</td>\n",
       "      <td>5813</td>\n",
       "      <td>2.0</td>\n",
       "      <td>0</td>\n",
       "      <td>0</td>\n",
       "      <td>...</td>\n",
       "      <td>8</td>\n",
       "      <td>2310</td>\n",
       "      <td>0</td>\n",
       "      <td>2014</td>\n",
       "      <td>0</td>\n",
       "      <td>98146</td>\n",
       "      <td>47.5107</td>\n",
       "      <td>-122.362</td>\n",
       "      <td>1830</td>\n",
       "      <td>7200</td>\n",
       "    </tr>\n",
       "    <tr>\n",
       "      <td>21610</td>\n",
       "      <td>1523300141</td>\n",
       "      <td>20140623T000000</td>\n",
       "      <td>402101.0</td>\n",
       "      <td>2</td>\n",
       "      <td>0.75</td>\n",
       "      <td>1020</td>\n",
       "      <td>1350</td>\n",
       "      <td>2.0</td>\n",
       "      <td>0</td>\n",
       "      <td>0</td>\n",
       "      <td>...</td>\n",
       "      <td>7</td>\n",
       "      <td>1020</td>\n",
       "      <td>0</td>\n",
       "      <td>2009</td>\n",
       "      <td>0</td>\n",
       "      <td>98144</td>\n",
       "      <td>47.5944</td>\n",
       "      <td>-122.299</td>\n",
       "      <td>1020</td>\n",
       "      <td>2007</td>\n",
       "    </tr>\n",
       "    <tr>\n",
       "      <td>21611</td>\n",
       "      <td>291310100</td>\n",
       "      <td>20150116T000000</td>\n",
       "      <td>400000.0</td>\n",
       "      <td>3</td>\n",
       "      <td>2.50</td>\n",
       "      <td>1600</td>\n",
       "      <td>2388</td>\n",
       "      <td>2.0</td>\n",
       "      <td>0</td>\n",
       "      <td>0</td>\n",
       "      <td>...</td>\n",
       "      <td>8</td>\n",
       "      <td>1600</td>\n",
       "      <td>0</td>\n",
       "      <td>2004</td>\n",
       "      <td>0</td>\n",
       "      <td>98027</td>\n",
       "      <td>47.5345</td>\n",
       "      <td>-122.069</td>\n",
       "      <td>1410</td>\n",
       "      <td>1287</td>\n",
       "    </tr>\n",
       "    <tr>\n",
       "      <td>21612</td>\n",
       "      <td>1523300157</td>\n",
       "      <td>20141015T000000</td>\n",
       "      <td>325000.0</td>\n",
       "      <td>2</td>\n",
       "      <td>0.75</td>\n",
       "      <td>1020</td>\n",
       "      <td>1076</td>\n",
       "      <td>2.0</td>\n",
       "      <td>0</td>\n",
       "      <td>0</td>\n",
       "      <td>...</td>\n",
       "      <td>7</td>\n",
       "      <td>1020</td>\n",
       "      <td>0</td>\n",
       "      <td>2008</td>\n",
       "      <td>0</td>\n",
       "      <td>98144</td>\n",
       "      <td>47.5941</td>\n",
       "      <td>-122.299</td>\n",
       "      <td>1020</td>\n",
       "      <td>1357</td>\n",
       "    </tr>\n",
       "  </tbody>\n",
       "</table>\n",
       "<p>21613 rows × 21 columns</p>\n",
       "</div>"
      ],
      "text/plain": [
       "               id             date     price  bedrooms  bathrooms  \\\n",
       "0      7129300520  20141013T000000  221900.0         3       1.00   \n",
       "1      6414100192  20141209T000000  538000.0         3       2.25   \n",
       "2      5631500400  20150225T000000  180000.0         2       1.00   \n",
       "3      2487200875  20141209T000000  604000.0         4       3.00   \n",
       "4      1954400510  20150218T000000  510000.0         3       2.00   \n",
       "...           ...              ...       ...       ...        ...   \n",
       "21608   263000018  20140521T000000  360000.0         3       2.50   \n",
       "21609  6600060120  20150223T000000  400000.0         4       2.50   \n",
       "21610  1523300141  20140623T000000  402101.0         2       0.75   \n",
       "21611   291310100  20150116T000000  400000.0         3       2.50   \n",
       "21612  1523300157  20141015T000000  325000.0         2       0.75   \n",
       "\n",
       "       sqft_living  sqft_lot  floors  waterfront  view  ...  grade  \\\n",
       "0             1180      5650     1.0           0     0  ...      7   \n",
       "1             2570      7242     2.0           0     0  ...      7   \n",
       "2              770     10000     1.0           0     0  ...      6   \n",
       "3             1960      5000     1.0           0     0  ...      7   \n",
       "4             1680      8080     1.0           0     0  ...      8   \n",
       "...            ...       ...     ...         ...   ...  ...    ...   \n",
       "21608         1530      1131     3.0           0     0  ...      8   \n",
       "21609         2310      5813     2.0           0     0  ...      8   \n",
       "21610         1020      1350     2.0           0     0  ...      7   \n",
       "21611         1600      2388     2.0           0     0  ...      8   \n",
       "21612         1020      1076     2.0           0     0  ...      7   \n",
       "\n",
       "       sqft_above  sqft_basement  yr_built  yr_renovated  zipcode      lat  \\\n",
       "0            1180              0      1955             0    98178  47.5112   \n",
       "1            2170            400      1951          1991    98125  47.7210   \n",
       "2             770              0      1933             0    98028  47.7379   \n",
       "3            1050            910      1965             0    98136  47.5208   \n",
       "4            1680              0      1987             0    98074  47.6168   \n",
       "...           ...            ...       ...           ...      ...      ...   \n",
       "21608        1530              0      2009             0    98103  47.6993   \n",
       "21609        2310              0      2014             0    98146  47.5107   \n",
       "21610        1020              0      2009             0    98144  47.5944   \n",
       "21611        1600              0      2004             0    98027  47.5345   \n",
       "21612        1020              0      2008             0    98144  47.5941   \n",
       "\n",
       "          long  sqft_living15  sqft_lot15  \n",
       "0     -122.257           1340        5650  \n",
       "1     -122.319           1690        7639  \n",
       "2     -122.233           2720        8062  \n",
       "3     -122.393           1360        5000  \n",
       "4     -122.045           1800        7503  \n",
       "...        ...            ...         ...  \n",
       "21608 -122.346           1530        1509  \n",
       "21609 -122.362           1830        7200  \n",
       "21610 -122.299           1020        2007  \n",
       "21611 -122.069           1410        1287  \n",
       "21612 -122.299           1020        1357  \n",
       "\n",
       "[21613 rows x 21 columns]"
      ]
     },
     "execution_count": 89,
     "metadata": {},
     "output_type": "execute_result"
    }
   ],
   "source": [
    "data=pd.read_csv(\"house_data_complete.csv\")\n",
    "data"
   ]
  },
  {
   "cell_type": "code",
   "execution_count": 90,
   "metadata": {},
   "outputs": [
    {
     "data": {
      "text/plain": [
       "Text(0.5, 0, 'bedrooms')"
      ]
     },
     "execution_count": 90,
     "metadata": {},
     "output_type": "execute_result"
    },
    {
     "data": {
      "image/png": "[encoded data removed]",
      "text/plain": [
       "<Figure size 432x288 with 1 Axes>"
      ]
     },
     "metadata": {
      "needs_background": "light"
     },
     "output_type": "display_data"
    }
   ],
   "source": [
    "z,y = data[\"bedrooms\"],data[\"price\"]\n",
    "PricesList = []\n",
    "BedroomsList = []\n",
    "PricesList = list(y)\n",
    "BedroomsList =list(z)\n",
    "\n",
    "pyplot.plot(BedroomsList, PricesList, 'ro' , ms=10, mec='k')\n",
    "pyplot.ylabel('price')\n",
    "pyplot.xlabel('bedrooms')\n"
   ]
  },
  {
   "cell_type": "raw",
   "metadata": {},
   "source": []
  },
  {
   "cell_type": "raw",
   "metadata": {},
   "source": []
  },
  {
   "cell_type": "code",
   "execution_count": 91,
   "metadata": {},
   "outputs": [
    {
     "name": "stdout",
     "output_type": "stream",
     "text": [
      "       bedrooms  bathrooms  sqft_living  sqft_lot    floors  waterfront  \\\n",
      "0     -0.398728  -1.447430    -0.979812 -0.228316 -0.915406   -0.087171   \n",
      "1     -0.398728   0.175603     0.533622 -0.189881  0.936484   -0.087171   \n",
      "2     -1.473925  -1.447430    -1.426221 -0.123296 -0.915406   -0.087171   \n",
      "3      0.676469   1.149422    -0.130547 -0.244009 -0.915406   -0.087171   \n",
      "4     -0.398728  -0.149004    -0.435412 -0.169649 -0.915406   -0.087171   \n",
      "...         ...        ...          ...       ...       ...         ...   \n",
      "21608 -0.398728   0.500209    -0.598732 -0.337417  2.788374   -0.087171   \n",
      "21609  0.676469   0.500209     0.250534 -0.224381  0.936484   -0.087171   \n",
      "21610 -1.473925  -1.772037    -1.154021 -0.332129  0.936484   -0.087171   \n",
      "21611 -0.398728   0.500209    -0.522516 -0.307069  0.936484   -0.087171   \n",
      "21612 -1.473925  -1.772037    -1.154021 -0.338744  0.936484   -0.087171   \n",
      "\n",
      "           view  condition     grade  sqft_above  sqft_basement  yr_built  \\\n",
      "0     -0.305752  -0.629172 -0.558823   -0.734691      -0.658666 -0.544885   \n",
      "1     -0.305752  -0.629172 -0.558823    0.460830       0.245136 -0.681063   \n",
      "2     -0.305752  -0.629172 -1.409554   -1.229805      -0.658666 -1.293862   \n",
      "3     -0.305752   2.444237 -0.558823   -0.891678       1.397483 -0.204441   \n",
      "4     -0.305752  -0.629172  0.291909   -0.130892      -0.658666  0.544535   \n",
      "...         ...        ...       ...         ...            ...       ...   \n",
      "21608 -0.305752  -0.629172  0.291909   -0.312032      -0.658666  1.293512   \n",
      "21609 -0.305752  -0.629172  0.291909    0.629894      -0.658666  1.463734   \n",
      "21610 -0.305752  -0.629172 -0.558823   -0.927906      -0.658666  1.293512   \n",
      "21611 -0.305752  -0.629172  0.291909   -0.227500      -0.658666  1.123290   \n",
      "21612 -0.305752  -0.629172 -0.558823   -0.927906      -0.658666  1.259468   \n",
      "\n",
      "       yr_renovated   zipcode       lat      long  sqft_living15  sqft_lot15  \n",
      "0         -0.210124  1.870108 -0.352564 -0.306072      -0.943333   -0.260709  \n",
      "1          4.746568  0.879547  1.161541 -0.746324      -0.432676   -0.187863  \n",
      "2         -0.210124 -0.933367  1.283507 -0.135652       1.070115   -0.172371  \n",
      "3         -0.210124  1.085135 -0.283281 -1.271787      -0.914153   -0.284515  \n",
      "4         -0.210124 -0.073634  0.409541  1.199307      -0.272184   -0.192844  \n",
      "...             ...       ...       ...       ...            ...         ...  \n",
      "21608     -0.210124  0.468371  1.004935 -0.938047      -0.666119   -0.412371  \n",
      "21609     -0.210124  1.272034 -0.356172 -1.051660      -0.228413   -0.203942  \n",
      "21610     -0.210124  1.234654  0.247882 -0.604307      -1.410220   -0.394132  \n",
      "21611     -0.210124 -0.952056 -0.184410  1.028887      -0.841202   -0.420502  \n",
      "21612     -0.210124  1.234654  0.245717 -0.604307      -1.410220   -0.417938  \n",
      "\n",
      "[21613 rows x 18 columns]\n"
     ]
    }
   ],
   "source": [
    "columns =data.columns[3:]\n",
    "norm_data = (data[columns]-(data[columns]).mean())/(data[columns]).std()\n",
    "print(norm_data)\n",
    "data[columns] = norm_data"
   ]
  },
  {
   "cell_type": "code",
   "execution_count": 92,
   "metadata": {},
   "outputs": [],
   "source": [
    "train, validate , test = np.split(data.sample(frac=1),[int(.6*len(data)),int(.8*len(data))])"
   ]
  },
  {
   "cell_type": "code",
   "execution_count": 93,
   "metadata": {},
   "outputs": [
    {
     "data": {
      "text/html": [
       "<div>\n",
       "<style scoped>\n",
       "    .dataframe tbody tr th:only-of-type {\n",
       "        vertical-align: middle;\n",
       "    }\n",
       "\n",
       "    .dataframe tbody tr th {\n",
       "        vertical-align: top;\n",
       "    }\n",
       "\n",
       "    .dataframe thead th {\n",
       "        text-align: right;\n",
       "    }\n",
       "</style>\n",
       "<table border=\"1\" class=\"dataframe\">\n",
       "  <thead>\n",
       "    <tr style=\"text-align: right;\">\n",
       "      <th></th>\n",
       "      <th>id</th>\n",
       "      <th>date</th>\n",
       "      <th>price</th>\n",
       "      <th>bedrooms</th>\n",
       "      <th>bathrooms</th>\n",
       "      <th>sqft_living</th>\n",
       "      <th>sqft_lot</th>\n",
       "      <th>floors</th>\n",
       "      <th>waterfront</th>\n",
       "      <th>view</th>\n",
       "      <th>...</th>\n",
       "      <th>grade</th>\n",
       "      <th>sqft_above</th>\n",
       "      <th>sqft_basement</th>\n",
       "      <th>yr_built</th>\n",
       "      <th>yr_renovated</th>\n",
       "      <th>zipcode</th>\n",
       "      <th>lat</th>\n",
       "      <th>long</th>\n",
       "      <th>sqft_living15</th>\n",
       "      <th>sqft_lot15</th>\n",
       "    </tr>\n",
       "  </thead>\n",
       "  <tbody>\n",
       "    <tr>\n",
       "      <td>1023</td>\n",
       "      <td>8143100350</td>\n",
       "      <td>20140825T000000</td>\n",
       "      <td>349500.0</td>\n",
       "      <td>-0.398728</td>\n",
       "      <td>-0.473610</td>\n",
       "      <td>-0.892708</td>\n",
       "      <td>-0.192633</td>\n",
       "      <td>-0.915406</td>\n",
       "      <td>-0.087171</td>\n",
       "      <td>-0.305752</td>\n",
       "      <td>...</td>\n",
       "      <td>-0.558823</td>\n",
       "      <td>-0.638083</td>\n",
       "      <td>-0.658666</td>\n",
       "      <td>-0.068264</td>\n",
       "      <td>-0.210124</td>\n",
       "      <td>-0.821228</td>\n",
       "      <td>1.199791</td>\n",
       "      <td>0.063172</td>\n",
       "      <td>-0.957924</td>\n",
       "      <td>-0.199327</td>\n",
       "    </tr>\n",
       "    <tr>\n",
       "      <td>13905</td>\n",
       "      <td>7214810150</td>\n",
       "      <td>20141002T000000</td>\n",
       "      <td>428000.0</td>\n",
       "      <td>-0.398728</td>\n",
       "      <td>-0.473610</td>\n",
       "      <td>0.043661</td>\n",
       "      <td>-0.138988</td>\n",
       "      <td>-0.915406</td>\n",
       "      <td>-0.087171</td>\n",
       "      <td>-0.305752</td>\n",
       "      <td>...</td>\n",
       "      <td>-0.558823</td>\n",
       "      <td>-0.613931</td>\n",
       "      <td>1.239317</td>\n",
       "      <td>0.272180</td>\n",
       "      <td>-0.210124</td>\n",
       "      <td>-0.111014</td>\n",
       "      <td>1.415576</td>\n",
       "      <td>0.489223</td>\n",
       "      <td>0.311424</td>\n",
       "      <td>-0.138018</td>\n",
       "    </tr>\n",
       "    <tr>\n",
       "      <td>5242</td>\n",
       "      <td>1515910290</td>\n",
       "      <td>20140825T000000</td>\n",
       "      <td>397450.0</td>\n",
       "      <td>0.676469</td>\n",
       "      <td>0.500209</td>\n",
       "      <td>0.620726</td>\n",
       "      <td>-0.136550</td>\n",
       "      <td>0.936484</td>\n",
       "      <td>-0.087171</td>\n",
       "      <td>-0.305752</td>\n",
       "      <td>...</td>\n",
       "      <td>0.291909</td>\n",
       "      <td>1.040477</td>\n",
       "      <td>-0.658666</td>\n",
       "      <td>0.748802</td>\n",
       "      <td>-0.210124</td>\n",
       "      <td>-0.671709</td>\n",
       "      <td>-1.376641</td>\n",
       "      <td>0.602836</td>\n",
       "      <td>0.763721</td>\n",
       "      <td>-0.143511</td>\n",
       "    </tr>\n",
       "    <tr>\n",
       "      <td>1485</td>\n",
       "      <td>3395800295</td>\n",
       "      <td>20140711T000000</td>\n",
       "      <td>250000.0</td>\n",
       "      <td>-1.473925</td>\n",
       "      <td>-1.447430</td>\n",
       "      <td>-1.143133</td>\n",
       "      <td>-0.152605</td>\n",
       "      <td>-0.915406</td>\n",
       "      <td>-0.087171</td>\n",
       "      <td>-0.305752</td>\n",
       "      <td>...</td>\n",
       "      <td>-1.409554</td>\n",
       "      <td>-0.915830</td>\n",
       "      <td>-0.658666</td>\n",
       "      <td>-0.510841</td>\n",
       "      <td>-0.210124</td>\n",
       "      <td>1.272034</td>\n",
       "      <td>-0.567627</td>\n",
       "      <td>-0.902543</td>\n",
       "      <td>-0.739070</td>\n",
       "      <td>-0.170210</td>\n",
       "    </tr>\n",
       "    <tr>\n",
       "      <td>7552</td>\n",
       "      <td>322069020</td>\n",
       "      <td>20140619T000000</td>\n",
       "      <td>520000.0</td>\n",
       "      <td>-0.398728</td>\n",
       "      <td>-0.473610</td>\n",
       "      <td>-0.152323</td>\n",
       "      <td>4.935237</td>\n",
       "      <td>-0.915406</td>\n",
       "      <td>-0.087171</td>\n",
       "      <td>-0.305752</td>\n",
       "      <td>...</td>\n",
       "      <td>-0.558823</td>\n",
       "      <td>0.183083</td>\n",
       "      <td>-0.658666</td>\n",
       "      <td>0.680713</td>\n",
       "      <td>-0.210124</td>\n",
       "      <td>-0.746468</td>\n",
       "      <td>-1.000641</td>\n",
       "      <td>1.376828</td>\n",
       "      <td>0.107161</td>\n",
       "      <td>3.520763</td>\n",
       "    </tr>\n",
       "    <tr>\n",
       "      <td>...</td>\n",
       "      <td>...</td>\n",
       "      <td>...</td>\n",
       "      <td>...</td>\n",
       "      <td>...</td>\n",
       "      <td>...</td>\n",
       "      <td>...</td>\n",
       "      <td>...</td>\n",
       "      <td>...</td>\n",
       "      <td>...</td>\n",
       "      <td>...</td>\n",
       "      <td>...</td>\n",
       "      <td>...</td>\n",
       "      <td>...</td>\n",
       "      <td>...</td>\n",
       "      <td>...</td>\n",
       "      <td>...</td>\n",
       "      <td>...</td>\n",
       "      <td>...</td>\n",
       "      <td>...</td>\n",
       "      <td>...</td>\n",
       "      <td>...</td>\n",
       "    </tr>\n",
       "    <tr>\n",
       "      <td>13526</td>\n",
       "      <td>1787600209</td>\n",
       "      <td>20140909T000000</td>\n",
       "      <td>432500.0</td>\n",
       "      <td>-0.398728</td>\n",
       "      <td>0.500209</td>\n",
       "      <td>-0.805604</td>\n",
       "      <td>-0.150649</td>\n",
       "      <td>0.936484</td>\n",
       "      <td>-0.087171</td>\n",
       "      <td>-0.305752</td>\n",
       "      <td>...</td>\n",
       "      <td>0.291909</td>\n",
       "      <td>-0.541475</td>\n",
       "      <td>-0.658666</td>\n",
       "      <td>0.442402</td>\n",
       "      <td>-0.210124</td>\n",
       "      <td>0.879547</td>\n",
       "      <td>1.183192</td>\n",
       "      <td>-0.803131</td>\n",
       "      <td>-0.520217</td>\n",
       "      <td>-0.200755</td>\n",
       "    </tr>\n",
       "    <tr>\n",
       "      <td>17250</td>\n",
       "      <td>1442700430</td>\n",
       "      <td>20140808T000000</td>\n",
       "      <td>499950.0</td>\n",
       "      <td>1.751667</td>\n",
       "      <td>0.500209</td>\n",
       "      <td>1.197791</td>\n",
       "      <td>0.210090</td>\n",
       "      <td>-0.915406</td>\n",
       "      <td>-0.087171</td>\n",
       "      <td>-0.305752</td>\n",
       "      <td>...</td>\n",
       "      <td>1.142641</td>\n",
       "      <td>1.680503</td>\n",
       "      <td>-0.658666</td>\n",
       "      <td>0.238136</td>\n",
       "      <td>-0.210124</td>\n",
       "      <td>-0.746468</td>\n",
       "      <td>-1.352104</td>\n",
       "      <td>1.135399</td>\n",
       "      <td>0.749130</td>\n",
       "      <td>0.110223</td>\n",
       "    </tr>\n",
       "    <tr>\n",
       "      <td>16892</td>\n",
       "      <td>4058801680</td>\n",
       "      <td>20140523T000000</td>\n",
       "      <td>300000.0</td>\n",
       "      <td>-1.473925</td>\n",
       "      <td>-1.447430</td>\n",
       "      <td>-0.805604</td>\n",
       "      <td>-0.176699</td>\n",
       "      <td>-0.915406</td>\n",
       "      <td>-0.087171</td>\n",
       "      <td>2.304132</td>\n",
       "      <td>...</td>\n",
       "      <td>-0.558823</td>\n",
       "      <td>-0.541475</td>\n",
       "      <td>-0.658666</td>\n",
       "      <td>-0.817240</td>\n",
       "      <td>-0.210124</td>\n",
       "      <td>1.870108</td>\n",
       "      <td>-0.365554</td>\n",
       "      <td>-0.213761</td>\n",
       "      <td>0.822081</td>\n",
       "      <td>-0.182406</td>\n",
       "    </tr>\n",
       "    <tr>\n",
       "      <td>19552</td>\n",
       "      <td>643300040</td>\n",
       "      <td>20141104T000000</td>\n",
       "      <td>481000.0</td>\n",
       "      <td>0.676469</td>\n",
       "      <td>-0.473610</td>\n",
       "      <td>-0.174099</td>\n",
       "      <td>-0.135367</td>\n",
       "      <td>-0.915406</td>\n",
       "      <td>-0.087171</td>\n",
       "      <td>-0.305752</td>\n",
       "      <td>...</td>\n",
       "      <td>-0.558823</td>\n",
       "      <td>-0.384488</td>\n",
       "      <td>0.358111</td>\n",
       "      <td>-0.170397</td>\n",
       "      <td>-0.210124</td>\n",
       "      <td>-1.344543</td>\n",
       "      <td>0.059521</td>\n",
       "      <td>0.261996</td>\n",
       "      <td>-0.243004</td>\n",
       "      <td>-0.098060</td>\n",
       "    </tr>\n",
       "    <tr>\n",
       "      <td>7882</td>\n",
       "      <td>7784000180</td>\n",
       "      <td>20150505T000000</td>\n",
       "      <td>625000.0</td>\n",
       "      <td>-0.398728</td>\n",
       "      <td>-0.149004</td>\n",
       "      <td>0.095924</td>\n",
       "      <td>-0.060139</td>\n",
       "      <td>0.936484</td>\n",
       "      <td>-0.087171</td>\n",
       "      <td>0.999190</td>\n",
       "      <td>...</td>\n",
       "      <td>-0.558823</td>\n",
       "      <td>0.458415</td>\n",
       "      <td>-0.658666</td>\n",
       "      <td>-0.715107</td>\n",
       "      <td>-0.210124</td>\n",
       "      <td>1.272034</td>\n",
       "      <td>-0.481746</td>\n",
       "      <td>-1.087165</td>\n",
       "      <td>0.264736</td>\n",
       "      <td>-0.110549</td>\n",
       "    </tr>\n",
       "  </tbody>\n",
       "</table>\n",
       "<p>12967 rows × 21 columns</p>\n",
       "</div>"
      ],
      "text/plain": [
       "               id             date     price  bedrooms  bathrooms  \\\n",
       "1023   8143100350  20140825T000000  349500.0 -0.398728  -0.473610   \n",
       "13905  7214810150  20141002T000000  428000.0 -0.398728  -0.473610   \n",
       "5242   1515910290  20140825T000000  397450.0  0.676469   0.500209   \n",
       "1485   3395800295  20140711T000000  250000.0 -1.473925  -1.447430   \n",
       "7552    322069020  20140619T000000  520000.0 -0.398728  -0.473610   \n",
       "...           ...              ...       ...       ...        ...   \n",
       "13526  1787600209  20140909T000000  432500.0 -0.398728   0.500209   \n",
       "17250  1442700430  20140808T000000  499950.0  1.751667   0.500209   \n",
       "16892  4058801680  20140523T000000  300000.0 -1.473925  -1.447430   \n",
       "19552   643300040  20141104T000000  481000.0  0.676469  -0.473610   \n",
       "7882   7784000180  20150505T000000  625000.0 -0.398728  -0.149004   \n",
       "\n",
       "       sqft_living  sqft_lot    floors  waterfront      view  ...     grade  \\\n",
       "1023     -0.892708 -0.192633 -0.915406   -0.087171 -0.305752  ... -0.558823   \n",
       "13905     0.043661 -0.138988 -0.915406   -0.087171 -0.305752  ... -0.558823   \n",
       "5242      0.620726 -0.136550  0.936484   -0.087171 -0.305752  ...  0.291909   \n",
       "1485     -1.143133 -0.152605 -0.915406   -0.087171 -0.305752  ... -1.409554   \n",
       "7552     -0.152323  4.935237 -0.915406   -0.087171 -0.305752  ... -0.558823   \n",
       "...            ...       ...       ...         ...       ...  ...       ...   \n",
       "13526    -0.805604 -0.150649  0.936484   -0.087171 -0.305752  ...  0.291909   \n",
       "17250     1.197791  0.210090 -0.915406   -0.087171 -0.305752  ...  1.142641   \n",
       "16892    -0.805604 -0.176699 -0.915406   -0.087171  2.304132  ... -0.558823   \n",
       "19552    -0.174099 -0.135367 -0.915406   -0.087171 -0.305752  ... -0.558823   \n",
       "7882      0.095924 -0.060139  0.936484   -0.087171  0.999190  ... -0.558823   \n",
       "\n",
       "       sqft_above  sqft_basement  yr_built  yr_renovated   zipcode       lat  \\\n",
       "1023    -0.638083      -0.658666 -0.068264     -0.210124 -0.821228  1.199791   \n",
       "13905   -0.613931       1.239317  0.272180     -0.210124 -0.111014  1.415576   \n",
       "5242     1.040477      -0.658666  0.748802     -0.210124 -0.671709 -1.376641   \n",
       "1485    -0.915830      -0.658666 -0.510841     -0.210124  1.272034 -0.567627   \n",
       "7552     0.183083      -0.658666  0.680713     -0.210124 -0.746468 -1.000641   \n",
       "...           ...            ...       ...           ...       ...       ...   \n",
       "13526   -0.541475      -0.658666  0.442402     -0.210124  0.879547  1.183192   \n",
       "17250    1.680503      -0.658666  0.238136     -0.210124 -0.746468 -1.352104   \n",
       "16892   -0.541475      -0.658666 -0.817240     -0.210124  1.870108 -0.365554   \n",
       "19552   -0.384488       0.358111 -0.170397     -0.210124 -1.344543  0.059521   \n",
       "7882     0.458415      -0.658666 -0.715107     -0.210124  1.272034 -0.481746   \n",
       "\n",
       "           long  sqft_living15  sqft_lot15  \n",
       "1023   0.063172      -0.957924   -0.199327  \n",
       "13905  0.489223       0.311424   -0.138018  \n",
       "5242   0.602836       0.763721   -0.143511  \n",
       "1485  -0.902543      -0.739070   -0.170210  \n",
       "7552   1.376828       0.107161    3.520763  \n",
       "...         ...            ...         ...  \n",
       "13526 -0.803131      -0.520217   -0.200755  \n",
       "17250  1.135399       0.749130    0.110223  \n",
       "16892 -0.213761       0.822081   -0.182406  \n",
       "19552  0.261996      -0.243004   -0.098060  \n",
       "7882  -1.087165       0.264736   -0.110549  \n",
       "\n",
       "[12967 rows x 21 columns]"
      ]
     },
     "execution_count": 93,
     "metadata": {},
     "output_type": "execute_result"
    }
   ],
   "source": [
    "train"
   ]
  },
  {
   "cell_type": "code",
   "execution_count": 94,
   "metadata": {},
   "outputs": [
    {
     "data": {
      "text/plain": [
       "array([[8143100350, '20140825T000000', 349500.0, ...,\n",
       "        0.06317197795834482, -0.9579235795408733, -0.1993268329309002],\n",
       "       [7214810150, '20141002T000000', 428000.0, ..., 0.4892225796015131,\n",
       "        0.3114243018835722, -0.13801753806826847],\n",
       "       [1515910290, '20140825T000000', 397450.0, ..., 0.6028360733730583,\n",
       "        0.763720673425616, -0.14351120248248278],\n",
       "       ...,\n",
       "       [4058801680, '20140523T000000', 300000.0, ...,\n",
       "        -0.21376091310971457, 0.8220814955600733, -0.1824063465351201],\n",
       "       [643300040, '20141104T000000', 481000.0, ..., 0.26199559205842277,\n",
       "        -0.24300350839377183, -0.09806028556221638],\n",
       "       [7784000180, '20150505T000000', 625000.0, ...,\n",
       "        -1.0871646464782097, 0.26473564417600637, -0.11054921599719691]],\n",
       "      dtype=object)"
      ]
     },
     "execution_count": 94,
     "metadata": {},
     "output_type": "execute_result"
    }
   ],
   "source": [
    "train = train.to_numpy()\n",
    "train"
   ]
  },
  {
   "cell_type": "code",
   "execution_count": 95,
   "metadata": {},
   "outputs": [
    {
     "data": {
      "text/plain": [
       "array([[8582010240, '20140506T000000', 606000.0, ..., 0.9720799281303026,\n",
       "        0.7783108789592302, -0.09428796933112255],\n",
       "       [8850000018, '20141001T000000', 412000.0, ...,\n",
       "        -0.7179207917207634, -0.34513494712907206, -0.3077717684674907],\n",
       "       [8123710070, '20141205T000000', 559500.0, ..., 0.7164495671445026,\n",
       "        0.36978512401802943, -0.1282754398403951],\n",
       "       ...,\n",
       "       [8097000250, '20150130T000000', 323400.0, ..., 0.2051888451727006,\n",
       "        0.3843753295516438, -0.18123436479342106],\n",
       "       [1626069139, '20140821T000000', 462500.0, ..., 1.1425001687876708,\n",
       "        0.530277384887787, 1.4148582696829772],\n",
       "       [2767603577, '20150506T000000', 475000.0, ...,\n",
       "        -1.1794756101674955, -0.9871039906081019, -0.4197326492291784]],\n",
       "      dtype=object)"
      ]
     },
     "execution_count": 95,
     "metadata": {},
     "output_type": "execute_result"
    }
   ],
   "source": [
    "validate = validate.to_numpy()\n",
    "validate"
   ]
  },
  {
   "cell_type": "code",
   "execution_count": 96,
   "metadata": {},
   "outputs": [
    {
     "data": {
      "text/plain": [
       "array([[100100050, '20141112T000000', 275000.0, ..., -0.6398115147528829,\n",
       "        -0.9725137850744876, -0.16295877450880145],\n",
       "       [7635801321, '20140723T000000', 455000.0, ...,\n",
       "        -1.0658621163959503, -0.24300350839377183, -0.020306621886369804],\n",
       "       [5500100120, '20140916T000000', 380000.0, ...,\n",
       "        -1.1510722367246848, -0.28677412499461474, -0.13281686908947893],\n",
       "       ...,\n",
       "       [1218000030, '20140827T000000', 278000.0, ...,\n",
       "        -0.9309460925423475, -1.599892623019903, -0.18811975752590301],\n",
       "       [1796380330, '20140623T000000', 249900.0, ..., 0.9294748679660867,\n",
       "        -1.0162844016753305, -0.1721881307246815],\n",
       "       [7887200390, '20140926T000000', 294000.0, ...,\n",
       "        -0.2776685033560889, -0.7682509076038871, -0.07905220668903486]],\n",
       "      dtype=object)"
      ]
     },
     "execution_count": 96,
     "metadata": {},
     "output_type": "execute_result"
    }
   ],
   "source": [
    "test = test.to_numpy()\n",
    "test"
   ]
  },
  {
   "cell_type": "code",
   "execution_count": 70,
   "metadata": {},
   "outputs": [
    {
     "data": {
      "text/plain": [
       "array([[0.6764694086269151, 0.5002091756889243],\n",
       "       [-0.3987279239700485, -0.4736104532705165],\n",
       "       [-0.3987279239700485, -0.4736104532705165],\n",
       "       ...,\n",
       "       [0.6764694086269151, 0.17560263270244408],\n",
       "       [-1.473925256567012, -1.4474300822299573],\n",
       "       [-0.3987279239700485, 0.5002091756889243]], dtype=object)"
      ]
     },
     "execution_count": 70,
     "metadata": {},
     "output_type": "execute_result"
    }
   ],
   "source": [
    "train_x = train[:,[3,4]]\n",
    "train_x"
   ]
  },
  {
   "cell_type": "code",
   "execution_count": 71,
   "metadata": {},
   "outputs": [
    {
     "data": {
      "text/plain": [
       "array([568500.0, 430000.0, 420000.0, ..., 580000.0, 426000.0, 260000.0],\n",
       "      dtype=object)"
      ]
     },
     "execution_count": 71,
     "metadata": {},
     "output_type": "execute_result"
    }
   ],
   "source": [
    "train_y =train[:,2]\n",
    "train_y"
   ]
  },
  {
   "cell_type": "code",
   "execution_count": 72,
   "metadata": {},
   "outputs": [
    {
     "data": {
      "text/plain": [
       "12967"
      ]
     },
     "execution_count": 72,
     "metadata": {},
     "output_type": "execute_result"
    }
   ],
   "source": [
    "train_m =train_y.size\n",
    "train_m"
   ]
  },
  {
   "cell_type": "code",
   "execution_count": 73,
   "metadata": {},
   "outputs": [
    {
     "data": {
      "text/plain": [
       "array([[1.0, 0.6764694086269151, 0.5002091756889243],\n",
       "       [1.0, -0.3987279239700485, -0.4736104532705165],\n",
       "       [1.0, -0.3987279239700485, -0.4736104532705165],\n",
       "       ...,\n",
       "       [1.0, 0.6764694086269151, 0.17560263270244408],\n",
       "       [1.0, -1.473925256567012, -1.4474300822299573],\n",
       "       [1.0, -0.3987279239700485, 0.5002091756889243]], dtype=object)"
      ]
     },
     "execution_count": 73,
     "metadata": {},
     "output_type": "execute_result"
    }
   ],
   "source": [
    "train_x = np.concatenate([np.ones((train_m,1)), train_x], axis =1)\n",
    "train_x"
   ]
  },
  {
   "cell_type": "code",
   "execution_count": 74,
   "metadata": {},
   "outputs": [],
   "source": [
    "def computeCostMulti(train_x, train_y, theta):\n",
    "    \n",
    "    #intialize some useful values \n",
    "    \n",
    "    train_m = train_y.shape[0] #number of training examples \n",
    "    \n",
    "    #you need to return the following variable correctly \n",
    "    \n",
    "    j=0\n",
    "    #==============your code here =============\n",
    "    \n",
    "    j=0\n",
    "    \n",
    "    j=np.dot((np.dot(train_x,theta)-train_y),(np.dot(train_x,theta)-train_y))/(2*train_m) \n",
    "    \n",
    "    #=====================================================\n",
    "    \n",
    "    return j\n"
   ]
  },
  {
   "cell_type": "code",
   "execution_count": 75,
   "metadata": {},
   "outputs": [],
   "source": [
    "def gradientDescentMulti(train_x,train_y, theta, alpha, num_iters):\n",
    "    \n",
    "    #intialize some useful values\n",
    "    \n",
    "    train_m = train_y.shape[0] #number of trainig examples \n",
    "    \n",
    "    #Make a copy of theta, which will be updated by Gradient Descent \n",
    "    \n",
    "    theta = theta.copy()\n",
    "    j_history= []\n",
    "    for i in range(num_iters):\n",
    "        #==================YOUR CODE IS HERE =================\n",
    "        sumofh0x=np.dot(train_x,theta)\n",
    "        theta =theta-((alpha/train_m)*(np.dot(train_x.T,sumofh0x- train_y)))\n",
    "        #=======================================\n",
    "        \n",
    "        #save the cost j in every iteration\n",
    "        \n",
    "        j_history.append(computeCostMulti(train_x, train_y, theta))\n",
    "    return theta, j_history"
   ]
  },
  {
   "cell_type": "code",
   "execution_count": 87,
   "metadata": {},
   "outputs": [
    {
     "data": {
      "text/plain": [
       "Text(0, 0.5, 'Cost j')"
      ]
     },
     "execution_count": 87,
     "metadata": {},
     "output_type": "execute_result"
    },
    {
     "data": {
      "image/png": "[encoded data removed]",
      "text/plain": [
       "<Figure size 432x288 with 1 Axes>"
      ]
     },
     "metadata": {
      "needs_background": "light"
     },
     "output_type": "display_data"
    }
   ],
   "source": [
    "# choose some alpha value - change this \n",
    "alpha = 0.03\n",
    "num_iters = 100\n",
    "\n",
    "#init theta and run gradient descnt\n",
    "theta = np.zeros(3) \n",
    "theta, j_history = gradientDescentMulti(train_x, train_y, theta, alpha, num_iters) \n",
    "#print(j_history)\n",
    "#plot the convergence graph \n",
    "pyplot.plot(np.arange(len(j_history)), j_history, lw=2)\n",
    "pyplot.xlabel('number of itierations')\n",
    "pyplot.ylabel('Cost j')\n"
   ]
  },
  {
   "cell_type": "code",
   "execution_count": 78,
   "metadata": {},
   "outputs": [],
   "source": [
    "def computeCostMulti2(train_x, train_y, theta):\n",
    "  #  initialize some useful values\n",
    "\n",
    " train_m = train_y.shape[0]  #number of training examples \n",
    "\n",
    "#you need to return the following variable correctly\n",
    "\n",
    " j=0\n",
    "#===================your code here==============\n",
    " j=0\n",
    " j=np.dot((np.dot(np.square(train_x),theta)-train_y),(np.dot(np.square(train_x),theta)-train_y))/(2*train_m)\n",
    "#==========================\n",
    " return j"
   ]
  },
  {
   "cell_type": "code",
   "execution_count": 79,
   "metadata": {},
   "outputs": [],
   "source": [
    "def gradientDescentMulti2(train_x, train_y, theta, alpha, num_iters):\n",
    "    train_m = train_y.shape[0]\n",
    "    theta=theta.copy()\n",
    "    j_history = []\n",
    "    for i in range(num_iters):\n",
    "        sumofh0x=np.dot(np.square(train_x),theta)\n",
    "        theta = theta-((alpha/train_m)*(np.dot(np.square(train_x).T,sumofh0x -train_y)))\n",
    "        j_history.append(computeCostMulti2(train_x, train_y, theta))\n",
    "     \n",
    "    return theta, j_history"
   ]
  },
  {
   "cell_type": "code",
   "execution_count": 80,
   "metadata": {},
   "outputs": [
    {
     "data": {
      "text/plain": [
       "Text(0, 0.5, 'cost j')"
      ]
     },
     "execution_count": 80,
     "metadata": {},
     "output_type": "execute_result"
    },
    {
     "data": {
      "image/png": "[encoded data removed]",
      "text/plain": [
       "<Figure size 432x288 with 1 Axes>"
      ]
     },
     "metadata": {
      "needs_background": "light"
     },
     "output_type": "display_data"
    }
   ],
   "source": [
    "alpha=0.01\n",
    "num_iters = 100\n",
    "theta = np.zeros(3)\n",
    "#intiate theta and run gradient descent \n",
    "\n",
    "theta, j_historyy = gradientDescentMulti2(train_x, train_y, theta, alpha, num_iters)\n",
    "\n",
    "#plot the convergence graph\n",
    "\n",
    "pyplot.plot(np.arange(len(j_history)), j_history, lw=2)\n",
    "pyplot.xlabel('number of itirations')\n",
    "pyplot.ylabel('cost j')"
   ]
  },
  {
   "cell_type": "code",
   "execution_count": 81,
   "metadata": {},
   "outputs": [],
   "source": [
    "def computeCostMulti3(train_x, train_y, theta):\n",
    "  #  initialize some useful values\n",
    "\n",
    " train_m = train_y.shape[0]  #number of training examples \n",
    "\n",
    "#you need to return the following variable correctly\n",
    "\n",
    " j=0\n",
    "#===================your code here==============\n",
    " j=0\n",
    "    \n",
    " j =np.dot((np.dot(np.power(train_x,3),theta)-train_y),(np.dot(np.power(train_x,3),theta)-train_y))/(2*train_m)\n",
    "#==========================\n",
    " return j"
   ]
  },
  {
   "cell_type": "code",
   "execution_count": 82,
   "metadata": {},
   "outputs": [],
   "source": [
    "def gradientDescentMulti3(train_x, train_y, theta, alpha, num_iters):\n",
    "    train_m = train_y.shape[0]\n",
    "    theta=theta.copy()\n",
    "    j_history = []\n",
    "    for i in range(num_iters):\n",
    "        sumofh0x=np.dot(np.power(train_x,3),theta)\n",
    "        theta = theta-((alpha/train_m)*(np.dot(np.power(train_x,3).T,sumofh0x -train_y)))\n",
    "        j_history.append(computeCostMulti3(train_x, train_y, theta))\n",
    "     \n",
    "    return theta, j_history"
   ]
  },
  {
   "cell_type": "code",
   "execution_count": 83,
   "metadata": {},
   "outputs": [
    {
     "data": {
      "text/plain": [
       "Text(0, 0.5, 'cost j')"
      ]
     },
     "execution_count": 83,
     "metadata": {},
     "output_type": "execute_result"
    },
    {
     "data": {
      "image/png": "[encoded data removed]",
      "text/plain": [
       "<Figure size 432x288 with 1 Axes>"
      ]
     },
     "metadata": {
      "needs_background": "light"
     },
     "output_type": "display_data"
    }
   ],
   "source": [
    "alpha=0.01\n",
    "num_iters = 100\n",
    "theta = np.zeros(3)\n",
    "#intiate theta and run gradient descent \n",
    "\n",
    "theta, j_historyy = gradientDescentMulti3(train_x, train_y, theta, alpha, num_iters)\n",
    "\n",
    "#plot the convergence graph\n",
    "\n",
    "pyplot.plot(np.arange(len(j_history)), j_history, lw=2)\n",
    "pyplot.xlabel('number of itirations')\n",
    "pyplot.ylabel('cost j')"
   ]
  },
  {
   "cell_type": "code",
   "execution_count": 97,
   "metadata": {},
   "outputs": [
    {
     "data": {
      "text/plain": [
       "array([[0.6764694086269151, 0.5002091756889243],\n",
       "       [-0.3987279239700485, 0.5002091756889243],\n",
       "       [-0.3987279239700485, 0.17560263270244408],\n",
       "       ...,\n",
       "       [0.6764694086269151, 1.149422261661885],\n",
       "       [-0.3987279239700485, 0.17560263270244408],\n",
       "       [-1.473925256567012, -0.7982169962569967]], dtype=object)"
      ]
     },
     "execution_count": 97,
     "metadata": {},
     "output_type": "execute_result"
    }
   ],
   "source": [
    "validate_x = validate[:,[3,4]]\n",
    "validate_x"
   ]
  },
  {
   "cell_type": "code",
   "execution_count": 98,
   "metadata": {},
   "outputs": [
    {
     "data": {
      "text/plain": [
       "array([606000.0, 412000.0, 559500.0, ..., 323400.0, 462500.0, 475000.0],\n",
       "      dtype=object)"
      ]
     },
     "execution_count": 98,
     "metadata": {},
     "output_type": "execute_result"
    }
   ],
   "source": [
    "validate_y =validate[:,2]\n",
    "validate_y"
   ]
  },
  {
   "cell_type": "code",
   "execution_count": 99,
   "metadata": {},
   "outputs": [
    {
     "data": {
      "text/plain": [
       "4323"
      ]
     },
     "execution_count": 99,
     "metadata": {},
     "output_type": "execute_result"
    }
   ],
   "source": [
    "validate_m =validate_y.size\n",
    "validate_m"
   ]
  },
  {
   "cell_type": "code",
   "execution_count": 100,
   "metadata": {},
   "outputs": [
    {
     "data": {
      "text/plain": [
       "array([[1.0, 0.6764694086269151, 0.5002091756889243],\n",
       "       [1.0, -0.3987279239700485, 0.5002091756889243],\n",
       "       [1.0, -0.3987279239700485, 0.17560263270244408],\n",
       "       ...,\n",
       "       [1.0, 0.6764694086269151, 1.149422261661885],\n",
       "       [1.0, -0.3987279239700485, 0.17560263270244408],\n",
       "       [1.0, -1.473925256567012, -0.7982169962569967]], dtype=object)"
      ]
     },
     "execution_count": 100,
     "metadata": {},
     "output_type": "execute_result"
    }
   ],
   "source": [
    "validate_x = np.concatenate([np.ones((validate_m,1)), validate_x], axis =1)\n",
    "validate_x"
   ]
  },
  {
   "cell_type": "code",
   "execution_count": 101,
   "metadata": {},
   "outputs": [
    {
     "data": {
      "text/plain": [
       "Text(0, 0.5, 'Cost j')"
      ]
     },
     "execution_count": 101,
     "metadata": {},
     "output_type": "execute_result"
    },
    {
     "data": {
      "image/png": "[encoded data removed]",
      "text/plain": [
       "<Figure size 432x288 with 1 Axes>"
      ]
     },
     "metadata": {
      "needs_background": "light"
     },
     "output_type": "display_data"
    }
   ],
   "source": [
    "# choose some alpha value - change this \n",
    "alpha = 0.03\n",
    "num_iters = 100\n",
    "\n",
    "#init theta and run gradient descnt\n",
    "theta = np.zeros(3) \n",
    "theta, j_history = gradientDescentMulti(validate_x, validate_y, theta, alpha, num_iters) \n",
    "#print(j_history)\n",
    "#plot the convergence graph \n",
    "pyplot.plot(np.arange(len(j_history)), j_history, lw=2)\n",
    "pyplot.xlabel('number of itierations')\n",
    "pyplot.ylabel('Cost j')\n"
   ]
  },
  {
   "cell_type": "code",
   "execution_count": 102,
   "metadata": {},
   "outputs": [
    {
     "data": {
      "text/plain": [
       "Text(0, 0.5, 'cost j')"
      ]
     },
     "execution_count": 102,
     "metadata": {},
     "output_type": "execute_result"
    },
    {
     "data": {
      "image/png": "[encoded data removed]",
      "text/plain": [
       "<Figure size 432x288 with 1 Axes>"
      ]
     },
     "metadata": {
      "needs_background": "light"
     },
     "output_type": "display_data"
    }
   ],
   "source": [
    "alpha=0.01\n",
    "num_iters = 100\n",
    "theta = np.zeros(3)\n",
    "#intiate theta and run gradient descent \n",
    "\n",
    "theta, j_historyy = gradientDescentMulti2(validate_x, validate_y, theta, alpha, num_iters)\n",
    "\n",
    "#plot the convergence graph\n",
    "\n",
    "pyplot.plot(np.arange(len(j_history)), j_history, lw=2)\n",
    "pyplot.xlabel('number of itirations')\n",
    "pyplot.ylabel('cost j')"
   ]
  },
  {
   "cell_type": "code",
   "execution_count": 103,
   "metadata": {},
   "outputs": [
    {
     "name": "stderr",
     "output_type": "stream",
     "text": [
      "C:\\ProgramData\\Anaconda3\\lib\\site-packages\\ipykernel_launcher.py:7: RuntimeWarning: invalid value encountered in subtract\n",
      "  import sys\n"
     ]
    },
    {
     "data": {
      "text/plain": [
       "Text(0, 0.5, 'cost j')"
      ]
     },
     "execution_count": 103,
     "metadata": {},
     "output_type": "execute_result"
    },
    {
     "data": {
      "image/png": "[encoded data removed]",
      "text/plain": [
       "<Figure size 432x288 with 1 Axes>"
      ]
     },
     "metadata": {
      "needs_background": "light"
     },
     "output_type": "display_data"
    }
   ],
   "source": [
    "alpha=0.01\n",
    "num_iters = 100\n",
    "theta = np.zeros(3)\n",
    "#intiate theta and run gradient descent \n",
    "\n",
    "theta, j_historyy = gradientDescentMulti3(validate_x, validate_y, theta, alpha, num_iters)\n",
    "\n",
    "#plot the convergence graph\n",
    "\n",
    "pyplot.plot(np.arange(len(j_history)), j_history, lw=2)\n",
    "pyplot.xlabel('number of itirations')\n",
    "pyplot.ylabel('cost j')"
   ]
  },
  {
   "cell_type": "code",
   "execution_count": 104,
   "metadata": {},
   "outputs": [
    {
     "data": {
      "text/plain": [
       "array([[-0.3987279239700485, -1.4474300822299573],\n",
       "       [0.6764694086269151, 1.149422261661885],\n",
       "       [0.6764694086269151, -0.4736104532705165],\n",
       "       ...,\n",
       "       [-0.3987279239700485, -1.4474300822299573],\n",
       "       [-0.3987279239700485, -0.1490039102840362],\n",
       "       [-0.3987279239700485, -1.4474300822299573]], dtype=object)"
      ]
     },
     "execution_count": 104,
     "metadata": {},
     "output_type": "execute_result"
    }
   ],
   "source": [
    "test_x = test[:,[3,4]]\n",
    "test_x"
   ]
  },
  {
   "cell_type": "code",
   "execution_count": 105,
   "metadata": {},
   "outputs": [
    {
     "data": {
      "text/plain": [
       "array([275000.0, 455000.0, 380000.0, ..., 278000.0, 249900.0, 294000.0],\n",
       "      dtype=object)"
      ]
     },
     "execution_count": 105,
     "metadata": {},
     "output_type": "execute_result"
    }
   ],
   "source": [
    "test_y =test[:,2]\n",
    "test_y"
   ]
  },
  {
   "cell_type": "code",
   "execution_count": 106,
   "metadata": {},
   "outputs": [
    {
     "data": {
      "text/plain": [
       "4323"
      ]
     },
     "execution_count": 106,
     "metadata": {},
     "output_type": "execute_result"
    }
   ],
   "source": [
    "test_m =test_y.size\n",
    "test_m"
   ]
  },
  {
   "cell_type": "code",
   "execution_count": 107,
   "metadata": {},
   "outputs": [
    {
     "data": {
      "text/plain": [
       "array([[1.0, -0.3987279239700485, -1.4474300822299573],\n",
       "       [1.0, 0.6764694086269151, 1.149422261661885],\n",
       "       [1.0, 0.6764694086269151, -0.4736104532705165],\n",
       "       ...,\n",
       "       [1.0, -0.3987279239700485, -1.4474300822299573],\n",
       "       [1.0, -0.3987279239700485, -0.1490039102840362],\n",
       "       [1.0, -0.3987279239700485, -1.4474300822299573]], dtype=object)"
      ]
     },
     "execution_count": 107,
     "metadata": {},
     "output_type": "execute_result"
    }
   ],
   "source": [
    "test_x = np.concatenate([np.ones((test_m,1)), test_x], axis =1)\n",
    "test_x"
   ]
  },
  {
   "cell_type": "code",
   "execution_count": 108,
   "metadata": {},
   "outputs": [
    {
     "data": {
      "text/plain": [
       "Text(0, 0.5, 'Cost j')"
      ]
     },
     "execution_count": 108,
     "metadata": {},
     "output_type": "execute_result"
    },
    {
     "data": {
      "image/png": "[encoded data removed]",
      "text/plain": [
       "<Figure size 432x288 with 1 Axes>"
      ]
     },
     "metadata": {
      "needs_background": "light"
     },
     "output_type": "display_data"
    }
   ],
   "source": [
    "# choose some alpha value - change this \n",
    "alpha = 0.03\n",
    "num_iters = 100\n",
    "\n",
    "#init theta and run gradient descnt\n",
    "theta = np.zeros(3) \n",
    "theta, j_history = gradientDescentMulti(test_x, test_y, theta, alpha, num_iters) \n",
    "#print(j_history)\n",
    "#plot the convergence graph \n",
    "pyplot.plot(np.arange(len(j_history)), j_history, lw=2)\n",
    "pyplot.xlabel('number of itierations')\n",
    "pyplot.ylabel('Cost j')\n"
   ]
  },
  {
   "cell_type": "code",
   "execution_count": 109,
   "metadata": {},
   "outputs": [
    {
     "data": {
      "text/plain": [
       "Text(0, 0.5, 'cost j')"
      ]
     },
     "execution_count": 109,
     "metadata": {},
     "output_type": "execute_result"
    },
    {
     "data": {
      "image/png": "[encoded data removed]",
      "text/plain": [
       "<Figure size 432x288 with 1 Axes>"
      ]
     },
     "metadata": {
      "needs_background": "light"
     },
     "output_type": "display_data"
    }
   ],
   "source": [
    "alpha=0.01\n",
    "num_iters = 100\n",
    "theta = np.zeros(3)\n",
    "#intiate theta and run gradient descent \n",
    "\n",
    "theta, j_historyy = gradientDescentMulti2(test_x, test_y, theta, alpha, num_iters)\n",
    "\n",
    "#plot the convergence graph\n",
    "\n",
    "pyplot.plot(np.arange(len(j_history)), j_history, lw=2)\n",
    "pyplot.xlabel('number of itirations')\n",
    "pyplot.ylabel('cost j')"
   ]
  },
  {
   "cell_type": "code",
   "execution_count": 110,
   "metadata": {},
   "outputs": [
    {
     "data": {
      "text/plain": [
       "Text(0, 0.5, 'cost j')"
      ]
     },
     "execution_count": 110,
     "metadata": {},
     "output_type": "execute_result"
    },
    {
     "data": {
      "image/png": "[encoded data removed]",
      "text/plain": [
       "<Figure size 432x288 with 1 Axes>"
      ]
     },
     "metadata": {
      "needs_background": "light"
     },
     "output_type": "display_data"
    }
   ],
   "source": [
    "alpha=0.01\n",
    "num_iters = 100\n",
    "theta = np.zeros(3)\n",
    "#intiate theta and run gradient descent \n",
    "\n",
    "theta, j_historyy = gradientDescentMulti3(test_x, test_y, theta, alpha, num_iters)\n",
    "\n",
    "#plot the convergence graph\n",
    "\n",
    "pyplot.plot(np.arange(len(j_history)), j_history, lw=2)\n",
    "pyplot.xlabel('number of itirations')\n",
    "pyplot.ylabel('cost j')"
   ]
  },
  {
   "cell_type": "code",
   "execution_count": null,
   "metadata": {},
   "outputs": [],
   "source": []
  }
 ],
 "metadata": {
  "kernelspec": {
   "display_name": "Python 3",
   "language": "python",
   "name": "python3"
  },
  "language_info": {
   "codemirror_mode": {
    "name": "ipython",
    "version": 3
   },
   "file_extension": ".py",
   "mimetype": "text/x-python",
   "name": "python",
   "nbconvert_exporter": "python",
   "pygments_lexer": "ipython3",
   "version": "3.7.4"
  }
 },
 "nbformat": 4,
 "nbformat_minor": 2
}
